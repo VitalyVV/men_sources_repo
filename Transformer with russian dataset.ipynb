{
 "cells": [
  {
   "cell_type": "markdown",
   "metadata": {
    "colab_type": "text",
    "id": "J0Qjg6vuaHNt"
   },
   "source": [
    "# Transformer model for language understanding"
   ]
  },
  {
   "cell_type": "markdown",
   "metadata": {
    "colab_type": "text",
    "id": "M-f8TnGpE_ex"
   },
   "source": []
  },
  {
   "cell_type": "code",
   "execution_count": 2,
   "metadata": {
    "colab": {},
    "colab_type": "code",
    "id": "JjJJyJTZYebt"
   },
   "outputs": [],
   "source": [
    "from __future__ import absolute_import, division, print_function, unicode_literals\n",
    "import tensorflow_datasets as tfds\n",
    "# !pip install tf-nightly\n",
    "import tensorflow as tf\n",
    "\n",
    "import time\n",
    "import numpy as np\n",
    "import matplotlib.pyplot as plt"
   ]
  },
  {
   "cell_type": "code",
   "execution_count": 3,
   "metadata": {
    "colab": {},
    "colab_type": "code",
    "id": "nPO9PiDqHQRA"
   },
   "outputs": [
    {
     "data": {
      "text/plain": [
       "'2.2.0-dev20200310'"
      ]
     },
     "execution_count": 3,
     "metadata": {},
     "output_type": "execute_result"
    }
   ],
   "source": [
    "tf.__version__"
   ]
  },
  {
   "cell_type": "markdown",
   "metadata": {
    "colab_type": "text",
    "id": "fd1NWMxjfsDd"
   },
   "source": [
    "## Setup input pipeline"
   ]
  },
  {
   "cell_type": "code",
   "execution_count": 0,
   "metadata": {
    "colab": {},
    "colab_type": "code",
    "id": "cojrr3BBwbF8"
   },
   "outputs": [],
   "source": [
    "# !unzip 1mcorpus.zip"
   ]
  },
  {
   "cell_type": "code",
   "execution_count": 4,
   "metadata": {
    "colab": {},
    "colab_type": "code",
    "id": "8q9t4FmN96eN"
   },
   "outputs": [
    {
     "name": "stderr",
     "output_type": "stream",
     "text": [
      "WARNING:absl:Warning: Setting shuffle_files=True because split=TRAIN and shuffle_files=None. This behavior will be deprecated on 2019-08-06, at which point shuffle_files=False will be the default for all splits.\n"
     ]
    }
   ],
   "source": [
    "examples, metadata = tfds.load('ted_hrlr_translate/ru_to_en', with_info=True,\n",
    "                               as_supervised=True)\n",
    "train_examples, val_examples = examples['train'], examples['validation']"
   ]
  },
  {
   "cell_type": "code",
   "execution_count": 0,
   "metadata": {
    "colab": {},
    "colab_type": "code",
    "id": "YTI5M4Apywrk"
   },
   "outputs": [],
   "source": [
    "next(iter(examples['train']))"
   ]
  },
  {
   "cell_type": "code",
   "execution_count": 3,
   "metadata": {
    "colab": {},
    "colab_type": "code",
    "id": "O00AovQFv7i1"
   },
   "outputs": [],
   "source": [
    "dataset = tf.data.TextLineDataset([\"corpus.en_ru.1m.ru\", \"corpus.en_ru.1m.en\"])\n",
    "train_examples = dataset"
   ]
  },
  {
   "cell_type": "code",
   "execution_count": 5,
   "metadata": {
    "colab": {},
    "colab_type": "code",
    "id": "8CEmglu6wqKb"
   },
   "outputs": [],
   "source": [
    "ens, rus = [], []\n",
    "for ru, en in train_examples:\n",
    "    ens.append(en.numpy())\n",
    "    rus.append(ru.numpy())"
   ]
  },
  {
   "cell_type": "markdown",
   "metadata": {
    "colab_type": "text",
    "id": "RCEKotqosGfq"
   },
   "source": [
    "Create a custom subwords tokenizer from the training dataset. "
   ]
  },
  {
   "cell_type": "code",
   "execution_count": 6,
   "metadata": {
    "colab": {},
    "colab_type": "code",
    "id": "KVBg5Q8tBk5z"
   },
   "outputs": [],
   "source": [
    "tokenizer_en = tfds.features.text.SubwordTextEncoder.build_from_corpus(\n",
    "    (ens), target_vocab_size=2**14)\n",
    "\n",
    "tokenizer_ru = tfds.features.text.SubwordTextEncoder.build_from_corpus(\n",
    "    (rus), target_vocab_size=2**15)"
   ]
  },
  {
   "cell_type": "code",
   "execution_count": 7,
   "metadata": {
    "colab": {},
    "colab_type": "code",
    "id": "4DYWukNFkGQN"
   },
   "outputs": [
    {
     "name": "stdout",
     "output_type": "stream",
     "text": [
      "Tokenized string is [16378, 15104, 3391, 13, 3588, 16340]\n",
      "The original string: Transformer is awesome.\n"
     ]
    }
   ],
   "source": [
    "sample_string = 'Transformer is awesome.'\n",
    "\n",
    "tokenized_string = tokenizer_en.encode(sample_string)\n",
    "print ('Tokenized string is {}'.format(tokenized_string))\n",
    "\n",
    "original_string = tokenizer_en.decode(tokenized_string)\n",
    "print ('The original string: {}'.format(original_string))\n",
    "\n",
    "assert original_string == sample_string"
   ]
  },
  {
   "cell_type": "code",
   "execution_count": 8,
   "metadata": {
    "colab": {},
    "colab_type": "code",
    "id": "bf2ntBxjkqK6"
   },
   "outputs": [
    {
     "name": "stdout",
     "output_type": "stream",
     "text": [
      "16378 ----> T\n",
      "15104 ----> rans\n",
      "3391 ----> former \n",
      "13 ----> is \n",
      "3588 ----> awesome\n",
      "16340 ----> .\n"
     ]
    }
   ],
   "source": [
    "for ts in tokenized_string:\n",
    "  print ('{} ----> {}'.format(ts, tokenizer_en.decode([ts])))"
   ]
  },
  {
   "cell_type": "code",
   "execution_count": 9,
   "metadata": {
    "colab": {},
    "colab_type": "code",
    "id": "bcRp7VcQ5m6g"
   },
   "outputs": [],
   "source": [
    "BUFFER_SIZE = 20000\n",
    "BATCH_SIZE = 128"
   ]
  },
  {
   "cell_type": "markdown",
   "metadata": {
    "colab_type": "text",
    "id": "kGi4PoVakxdc"
   },
   "source": [
    "Add a start and end token to the input and target. "
   ]
  },
  {
   "cell_type": "code",
   "execution_count": 10,
   "metadata": {
    "colab": {},
    "colab_type": "code",
    "id": "UZwnPr4R055s"
   },
   "outputs": [],
   "source": [
    "def encode(lang1, lang2):\n",
    "  lang1 = [tokenizer_ru.vocab_size] + tokenizer_ru.encode(\n",
    "      lang1.numpy()) + [tokenizer_ru.vocab_size+1]\n",
    "\n",
    "  lang2 = [tokenizer_en.vocab_size] + tokenizer_en.encode(\n",
    "      lang2.numpy()) + [tokenizer_en.vocab_size+1]\n",
    "  \n",
    "  return lang1, lang2"
   ]
  },
  {
   "cell_type": "code",
   "execution_count": 11,
   "metadata": {
    "colab": {},
    "colab_type": "code",
    "id": "Mah1cS-P70Iz"
   },
   "outputs": [],
   "source": [
    "def tf_encode(pt, en):\n",
    "  result_pt, result_en = tf.py_function(encode, [pt, en], [tf.int64, tf.int64])\n",
    "  result_pt.set_shape([None])\n",
    "  result_en.set_shape([None])\n",
    "\n",
    "  return result_pt, result_en"
   ]
  },
  {
   "cell_type": "markdown",
   "metadata": {
    "colab_type": "text",
    "id": "6JrGp5Gek6Ql"
   },
   "source": [
    "Note: To keep this example small and relatively fast, drop examples with a length of over 40 tokens."
   ]
  },
  {
   "cell_type": "code",
   "execution_count": 12,
   "metadata": {
    "colab": {},
    "colab_type": "code",
    "id": "2QEgbjntk6Yf"
   },
   "outputs": [],
   "source": [
    "MAX_LENGTH = 50"
   ]
  },
  {
   "cell_type": "code",
   "execution_count": 13,
   "metadata": {
    "colab": {},
    "colab_type": "code",
    "id": "c081xPGv1CPI"
   },
   "outputs": [],
   "source": [
    "def filter_max_length(x, y, max_length=MAX_LENGTH):\n",
    "  return tf.logical_and(tf.size(x) <= max_length,\n",
    "                        tf.size(y) <= max_length)"
   ]
  },
  {
   "cell_type": "code",
   "execution_count": 14,
   "metadata": {
    "colab": {},
    "colab_type": "code",
    "id": "9mk9AZdZ5bcS"
   },
   "outputs": [],
   "source": [
    "train_dataset = train_examples.map(tf_encode)\n",
    "train_dataset = train_dataset.filter(filter_max_length)\n",
    "# cache the dataset to memory to get a speedup while reading from it.\n",
    "train_dataset = train_dataset.cache()\n",
    "train_dataset = train_dataset.shuffle(BUFFER_SIZE).padded_batch(BATCH_SIZE)\n",
    "train_dataset = train_dataset.prefetch(tf.data.experimental.AUTOTUNE)\n",
    "\n",
    "\n",
    "val_dataset = val_examples.map(tf_encode)\n",
    "val_dataset = val_dataset.filter(filter_max_length).padded_batch(BATCH_SIZE)\n",
    "\n",
    "test_examples = examples['test']\n",
    "test_dataset = test_examples.map(tf_encode)\n",
    "test_dataset = test_dataset.filter(filter_max_length).padded_batch(BATCH_SIZE)"
   ]
  },
  {
   "cell_type": "code",
   "execution_count": 15,
   "metadata": {
    "colab": {},
    "colab_type": "code",
    "id": "_fXvfYVfQr2n"
   },
   "outputs": [
    {
     "data": {
      "text/plain": [
       "(<tf.Tensor: shape=(128, 46), dtype=int64, numpy=\n",
       " array([[32783,    15, 22401, ...,     0,     0,     0],\n",
       "        [32783,   323,    30, ...,     0,     0,     0],\n",
       "        [32783,   422,   429, ...,     0,     0,     0],\n",
       "        ...,\n",
       "        [32783, 18485,  7690, ...,     0,     0,     0],\n",
       "        [32783,    14,   170, ...,     0,     0,     0],\n",
       "        [32783,     7,  4277, ...,     0,     0,     0]])>,\n",
       " <tf.Tensor: shape=(128, 48), dtype=int64, numpy=\n",
       " array([[16550,    55,    24, ...,     0,     0,     0],\n",
       "        [16550,   611,    57, ...,     0,     0,     0],\n",
       "        [16550,    58,     6, ...,     0,     0,     0],\n",
       "        ...,\n",
       "        [16550,     3,  2642, ...,     0,     0,     0],\n",
       "        [16550,   162,    70, ...,     0,     0,     0],\n",
       "        [16550,    40,     8, ...,     0,     0,     0]])>)"
      ]
     },
     "execution_count": 15,
     "metadata": {},
     "output_type": "execute_result"
    }
   ],
   "source": [
    "ru_batch, en_batch = next(iter(val_dataset))\n",
    "ru_batch, en_batch"
   ]
  },
  {
   "cell_type": "code",
   "execution_count": 16,
   "metadata": {
    "colab": {},
    "colab_type": "code",
    "id": "WhIOZjMNKujn"
   },
   "outputs": [],
   "source": [
    "def get_angles(pos, i, d_model):\n",
    "  angle_rates = 1 / np.power(10000, (2 * (i//2)) / np.float32(d_model))\n",
    "  return pos * angle_rates"
   ]
  },
  {
   "cell_type": "code",
   "execution_count": 17,
   "metadata": {
    "colab": {},
    "colab_type": "code",
    "id": "1Rz82wEs5biZ"
   },
   "outputs": [],
   "source": [
    "def positional_encoding(position, d_model):\n",
    "  angle_rads = get_angles(np.arange(position)[:, np.newaxis],\n",
    "                          np.arange(d_model)[np.newaxis, :],\n",
    "                          d_model)\n",
    "  \n",
    "  # apply sin to even indices in the array; 2i\n",
    "  angle_rads[:, 0::2] = np.sin(angle_rads[:, 0::2])\n",
    "  \n",
    "  # apply cos to odd indices in the array; 2i+1\n",
    "  angle_rads[:, 1::2] = np.cos(angle_rads[:, 1::2])\n",
    "    \n",
    "  pos_encoding = angle_rads[np.newaxis, ...]\n",
    "    \n",
    "  return tf.cast(pos_encoding, dtype=tf.float32)"
   ]
  },
  {
   "cell_type": "code",
   "execution_count": 18,
   "metadata": {
    "colab": {},
    "colab_type": "code",
    "id": "1kLCla68EloE"
   },
   "outputs": [
    {
     "name": "stdout",
     "output_type": "stream",
     "text": [
      "(1, 50, 512)\n"
     ]
    },
    {
     "data": {
      "image/png": "[encoded data removed]",
      "text/plain": [
       "<Figure size 432x288 with 2 Axes>"
      ]
     },
     "metadata": {
      "needs_background": "light"
     },
     "output_type": "display_data"
    }
   ],
   "source": [
    "pos_encoding = positional_encoding(50, 512)\n",
    "print (pos_encoding.shape)\n",
    "\n",
    "plt.pcolormesh(pos_encoding[0], cmap='RdBu')\n",
    "plt.xlabel('Depth')\n",
    "plt.xlim((0, 512))\n",
    "plt.ylabel('Position')\n",
    "plt.colorbar()\n",
    "plt.show()"
   ]
  },
  {
   "cell_type": "code",
   "execution_count": 19,
   "metadata": {
    "colab": {},
    "colab_type": "code",
    "id": "U2i8-e1s8ti9"
   },
   "outputs": [],
   "source": [
    "def create_padding_mask(seq):\n",
    "  seq = tf.cast(tf.math.equal(seq, 0), tf.float32)\n",
    "  \n",
    "  # add extra dimensions to add the padding\n",
    "  # to the attention logits.\n",
    "  return seq[:, tf.newaxis, tf.newaxis, :]  # (batch_size, 1, 1, seq_len)"
   ]
  },
  {
   "cell_type": "code",
   "execution_count": 20,
   "metadata": {
    "colab": {},
    "colab_type": "code",
    "id": "A7BYeBCNvi7n"
   },
   "outputs": [
    {
     "data": {
      "text/plain": [
       "<tf.Tensor: shape=(3, 1, 1, 5), dtype=float32, numpy=\n",
       "array([[[[0., 0., 1., 1., 0.]]],\n",
       "\n",
       "\n",
       "       [[[0., 0., 0., 1., 1.]]],\n",
       "\n",
       "\n",
       "       [[[1., 1., 1., 0., 0.]]]], dtype=float32)>"
      ]
     },
     "execution_count": 20,
     "metadata": {},
     "output_type": "execute_result"
    }
   ],
   "source": [
    "x = tf.constant([[7, 6, 0, 0, 1], [1, 2, 3, 0, 0], [0, 0, 0, 4, 5]])\n",
    "create_padding_mask(x)"
   ]
  },
  {
   "cell_type": "code",
   "execution_count": 21,
   "metadata": {
    "colab": {},
    "colab_type": "code",
    "id": "dVxS8OPI9uI0"
   },
   "outputs": [],
   "source": [
    "def create_look_ahead_mask(size):\n",
    "  mask = 1 - tf.linalg.band_part(tf.ones((size, size)), -1, 0)\n",
    "  return mask  # (seq_len, seq_len)"
   ]
  },
  {
   "cell_type": "code",
   "execution_count": 22,
   "metadata": {
    "colab": {},
    "colab_type": "code",
    "id": "yxKGuXxaBeeE"
   },
   "outputs": [
    {
     "data": {
      "text/plain": [
       "<tf.Tensor: shape=(3, 3), dtype=float32, numpy=\n",
       "array([[0., 1., 1.],\n",
       "       [0., 0., 1.],\n",
       "       [0., 0., 0.]], dtype=float32)>"
      ]
     },
     "execution_count": 22,
     "metadata": {},
     "output_type": "execute_result"
    }
   ],
   "source": [
    "x = tf.random.uniform((1, 3))\n",
    "temp = create_look_ahead_mask(x.shape[1])\n",
    "temp"
   ]
  },
  {
   "cell_type": "code",
   "execution_count": 23,
   "metadata": {
    "colab": {},
    "colab_type": "code",
    "id": "LazzUq3bJ5SH"
   },
   "outputs": [],
   "source": [
    "def scaled_dot_product_attention(q, k, v, mask):\n",
    "  \"\"\"Calculate the attention weights.\n",
    "  q, k, v must have matching leading dimensions.\n",
    "  k, v must have matching penultimate dimension, i.e.: seq_len_k = seq_len_v.\n",
    "  The mask has different shapes depending on its type(padding or look ahead) \n",
    "  but it must be broadcastable for addition.\n",
    "  \n",
    "  Args:\n",
    "    q: query shape == (..., seq_len_q, depth)\n",
    "    k: key shape == (..., seq_len_k, depth)\n",
    "    v: value shape == (..., seq_len_v, depth_v)\n",
    "    mask: Float tensor with shape broadcastable \n",
    "          to (..., seq_len_q, seq_len_k). Defaults to None.\n",
    "    \n",
    "  Returns:\n",
    "    output, attention_weights\n",
    "  \"\"\"\n",
    "\n",
    "  matmul_qk = tf.matmul(q, k, transpose_b=True)  # (..., seq_len_q, seq_len_k)\n",
    "  \n",
    "  # scale matmul_qk\n",
    "  dk = tf.cast(tf.shape(k)[-1], tf.float32)\n",
    "  scaled_attention_logits = matmul_qk / tf.math.sqrt(dk)\n",
    "\n",
    "  # add the mask to the scaled tensor.\n",
    "  if mask is not None:\n",
    "    scaled_attention_logits += (mask * -1e9)  \n",
    "\n",
    "  # softmax is normalized on the last axis (seq_len_k) so that the scores\n",
    "  # add up to 1.\n",
    "  attention_weights = tf.nn.softmax(scaled_attention_logits, axis=-1)  # (..., seq_len_q, seq_len_k)\n",
    "\n",
    "  output = tf.matmul(attention_weights, v)  # (..., seq_len_q, depth_v)\n",
    "\n",
    "  return output, attention_weights"
   ]
  },
  {
   "cell_type": "markdown",
   "metadata": {
    "colab_type": "text",
    "id": "FiqETnhCkoXh"
   },
   "source": [
    "As the softmax normalization is done on K, its values decide the amount of importance given to Q.\n",
    "\n",
    "The output represents the multiplication of the attention weights and the V (value) vector. This ensures that the words you want to focus on are kept as-is and the irrelevant words are flushed out."
   ]
  },
  {
   "cell_type": "code",
   "execution_count": 24,
   "metadata": {
    "colab": {},
    "colab_type": "code",
    "id": "n90YjClyInFy"
   },
   "outputs": [],
   "source": [
    "def print_out(q, k, v):\n",
    "  temp_out, temp_attn = scaled_dot_product_attention(\n",
    "      q, k, v, None)\n",
    "  print ('Attention weights are:')\n",
    "  print (temp_attn)\n",
    "  print ('Output is:')\n",
    "  print (temp_out)"
   ]
  },
  {
   "cell_type": "code",
   "execution_count": 25,
   "metadata": {
    "colab": {},
    "colab_type": "code",
    "id": "yAzUAf2DPlNt"
   },
   "outputs": [
    {
     "name": "stdout",
     "output_type": "stream",
     "text": [
      "Attention weights are:\n",
      "tf.Tensor([[0. 1. 0. 0.]], shape=(1, 4), dtype=float32)\n",
      "Output is:\n",
      "tf.Tensor([[10.  0.]], shape=(1, 2), dtype=float32)\n"
     ]
    }
   ],
   "source": [
    "np.set_printoptions(suppress=True)\n",
    "\n",
    "temp_k = tf.constant([[10,0,0],\n",
    "                      [0,10,0],\n",
    "                      [0,0,10],\n",
    "                      [0,0,10]], dtype=tf.float32)  # (4, 3)\n",
    "\n",
    "temp_v = tf.constant([[   1,0],\n",
    "                      [  10,0],\n",
    "                      [ 100,5],\n",
    "                      [1000,6]], dtype=tf.float32)  # (4, 2)\n",
    "\n",
    "# This `query` aligns with the second `key`,\n",
    "# so the second `value` is returned.\n",
    "temp_q = tf.constant([[0, 10, 0]], dtype=tf.float32)  # (1, 3)\n",
    "print_out(temp_q, temp_k, temp_v)"
   ]
  },
  {
   "cell_type": "code",
   "execution_count": 26,
   "metadata": {
    "colab": {},
    "colab_type": "code",
    "id": "zg6k-fGhgXra"
   },
   "outputs": [
    {
     "name": "stdout",
     "output_type": "stream",
     "text": [
      "Attention weights are:\n",
      "tf.Tensor([[0.  0.  0.5 0.5]], shape=(1, 4), dtype=float32)\n",
      "Output is:\n",
      "tf.Tensor([[550.    5.5]], shape=(1, 2), dtype=float32)\n"
     ]
    }
   ],
   "source": [
    "# This query aligns with a repeated key (third and fourth), \n",
    "# so all associated values get averaged.\n",
    "temp_q = tf.constant([[0, 0, 10]], dtype=tf.float32)  # (1, 3)\n",
    "print_out(temp_q, temp_k, temp_v)"
   ]
  },
  {
   "cell_type": "code",
   "execution_count": 27,
   "metadata": {
    "colab": {},
    "colab_type": "code",
    "id": "UAq3YOzUgXhb"
   },
   "outputs": [
    {
     "name": "stdout",
     "output_type": "stream",
     "text": [
      "Attention weights are:\n",
      "tf.Tensor([[0.5 0.5 0.  0. ]], shape=(1, 4), dtype=float32)\n",
      "Output is:\n",
      "tf.Tensor([[5.5 0. ]], shape=(1, 2), dtype=float32)\n"
     ]
    }
   ],
   "source": [
    "# This query aligns equally with the first and second key, \n",
    "# so their values get averaged.\n",
    "temp_q = tf.constant([[10, 10, 0]], dtype=tf.float32)  # (1, 3)\n",
    "print_out(temp_q, temp_k, temp_v)"
   ]
  },
  {
   "cell_type": "markdown",
   "metadata": {
    "colab_type": "text",
    "id": "aOz-4_XIhaTP"
   },
   "source": [
    "Pass all the queries together."
   ]
  },
  {
   "cell_type": "code",
   "execution_count": 28,
   "metadata": {
    "colab": {},
    "colab_type": "code",
    "id": "6dlU8Tm-hYrF"
   },
   "outputs": [
    {
     "name": "stdout",
     "output_type": "stream",
     "text": [
      "Attention weights are:\n",
      "tf.Tensor(\n",
      "[[0.  0.  0.5 0.5]\n",
      " [0.  1.  0.  0. ]\n",
      " [0.5 0.5 0.  0. ]], shape=(3, 4), dtype=float32)\n",
      "Output is:\n",
      "tf.Tensor(\n",
      "[[550.    5.5]\n",
      " [ 10.    0. ]\n",
      " [  5.5   0. ]], shape=(3, 2), dtype=float32)\n"
     ]
    }
   ],
   "source": [
    "temp_q = tf.constant([[0, 0, 10], [0, 10, 0], [10, 10, 0]], dtype=tf.float32)  # (3, 3)\n",
    "print_out(temp_q, temp_k, temp_v)"
   ]
  },
  {
   "cell_type": "code",
   "execution_count": 29,
   "metadata": {
    "colab": {},
    "colab_type": "code",
    "id": "BSV3PPKsYecw"
   },
   "outputs": [],
   "source": [
    "class MultiHeadAttention(tf.keras.layers.Layer):\n",
    "  def __init__(self, d_model, num_heads):\n",
    "    super(MultiHeadAttention, self).__init__()\n",
    "    self.num_heads = num_heads\n",
    "    self.d_model = d_model\n",
    "    \n",
    "    assert d_model % self.num_heads == 0\n",
    "    \n",
    "    self.depth = d_model // self.num_heads\n",
    "    \n",
    "    self.wq = tf.keras.layers.Dense(d_model)\n",
    "    self.wk = tf.keras.layers.Dense(d_model)\n",
    "    self.wv = tf.keras.layers.Dense(d_model)\n",
    "    \n",
    "    self.dense = tf.keras.layers.Dense(d_model)\n",
    "        \n",
    "  def split_heads(self, x, batch_size):\n",
    "    \"\"\"Split the last dimension into (num_heads, depth).\n",
    "    Transpose the result such that the shape is (batch_size, num_heads, seq_len, depth)\n",
    "    \"\"\"\n",
    "    x = tf.reshape(x, (batch_size, -1, self.num_heads, self.depth))\n",
    "    return tf.transpose(x, perm=[0, 2, 1, 3])\n",
    "    \n",
    "  def call(self, v, k, q, mask):\n",
    "    batch_size = tf.shape(q)[0]\n",
    "    \n",
    "    q = self.wq(q)  # (batch_size, seq_len, d_model)\n",
    "    k = self.wk(k)  # (batch_size, seq_len, d_model)\n",
    "    v = self.wv(v)  # (batch_size, seq_len, d_model)\n",
    "    \n",
    "    q = self.split_heads(q, batch_size)  # (batch_size, num_heads, seq_len_q, depth)\n",
    "    k = self.split_heads(k, batch_size)  # (batch_size, num_heads, seq_len_k, depth)\n",
    "    v = self.split_heads(v, batch_size)  # (batch_size, num_heads, seq_len_v, depth)\n",
    "    \n",
    "    # scaled_attention.shape == (batch_size, num_heads, seq_len_q, depth)\n",
    "    # attention_weights.shape == (batch_size, num_heads, seq_len_q, seq_len_k)\n",
    "    scaled_attention, attention_weights = scaled_dot_product_attention(\n",
    "        q, k, v, mask)\n",
    "    \n",
    "    scaled_attention = tf.transpose(scaled_attention, perm=[0, 2, 1, 3])  # (batch_size, seq_len_q, num_heads, depth)\n",
    "\n",
    "    concat_attention = tf.reshape(scaled_attention, \n",
    "                                  (batch_size, -1, self.d_model))  # (batch_size, seq_len_q, d_model)\n",
    "\n",
    "    output = self.dense(concat_attention)  # (batch_size, seq_len_q, d_model)\n",
    "        \n",
    "    return output, attention_weights"
   ]
  },
  {
   "cell_type": "markdown",
   "metadata": {
    "colab_type": "text",
    "id": "0D8FJue5lDyZ"
   },
   "source": [
    "Create a `MultiHeadAttention` layer to try out. At each location in the sequence, `y`, the `MultiHeadAttention` runs all 8 attention heads across all other locations in the sequence, returning a new vector of the same length at each location."
   ]
  },
  {
   "cell_type": "code",
   "execution_count": 30,
   "metadata": {
    "colab": {},
    "colab_type": "code",
    "id": "Hu94p-_-2_BX"
   },
   "outputs": [
    {
     "data": {
      "text/plain": [
       "(TensorShape([1, 60, 512]), TensorShape([1, 8, 60, 60]))"
      ]
     },
     "execution_count": 30,
     "metadata": {},
     "output_type": "execute_result"
    }
   ],
   "source": [
    "temp_mha = MultiHeadAttention(d_model=512, num_heads=8)\n",
    "y = tf.random.uniform((1, 60, 512))  # (batch_size, encoder_sequence, d_model)\n",
    "out, attn = temp_mha(y, k=y, q=y, mask=None)\n",
    "out.shape, attn.shape"
   ]
  },
  {
   "cell_type": "markdown",
   "metadata": {
    "colab_type": "text",
    "id": "RdDqGayx67vv"
   },
   "source": [
    "## Point wise feed forward network"
   ]
  },
  {
   "cell_type": "markdown",
   "metadata": {
    "colab_type": "text",
    "id": "gBqzJXGfHK3X"
   },
   "source": [
    "Point wise feed forward network consists of two fully-connected layers with a ReLU activation in between."
   ]
  },
  {
   "cell_type": "code",
   "execution_count": 31,
   "metadata": {
    "colab": {},
    "colab_type": "code",
    "id": "ET7xLt0yCT6Z"
   },
   "outputs": [],
   "source": [
    "def point_wise_feed_forward_network(d_model, dff):\n",
    "  return tf.keras.Sequential([\n",
    "      tf.keras.layers.Dense(dff, activation='relu'),  # (batch_size, seq_len, dff)\n",
    "      tf.keras.layers.Dense(d_model)  # (batch_size, seq_len, d_model)\n",
    "  ])"
   ]
  },
  {
   "cell_type": "code",
   "execution_count": 32,
   "metadata": {
    "colab": {},
    "colab_type": "code",
    "id": "mytb1lPyOHLB"
   },
   "outputs": [
    {
     "data": {
      "text/plain": [
       "TensorShape([64, 50, 512])"
      ]
     },
     "execution_count": 32,
     "metadata": {},
     "output_type": "execute_result"
    }
   ],
   "source": [
    "sample_ffn = point_wise_feed_forward_network(512, 2048)\n",
    "sample_ffn(tf.random.uniform((64, 50, 512))).shape"
   ]
  },
  {
   "cell_type": "code",
   "execution_count": 33,
   "metadata": {
    "colab": {},
    "colab_type": "code",
    "id": "ncyS-Ms3i2x_"
   },
   "outputs": [],
   "source": [
    "class EncoderLayer(tf.keras.layers.Layer):\n",
    "  def __init__(self, d_model, num_heads, dff, rate=0.1):\n",
    "    super(EncoderLayer, self).__init__()\n",
    "\n",
    "    self.mha = MultiHeadAttention(d_model, num_heads)\n",
    "    self.ffn = point_wise_feed_forward_network(d_model, dff)\n",
    "\n",
    "    self.layernorm1 = tf.keras.layers.LayerNormalization(epsilon=1e-6)\n",
    "    self.layernorm2 = tf.keras.layers.LayerNormalization(epsilon=1e-6)\n",
    "    \n",
    "    self.dropout1 = tf.keras.layers.Dropout(rate)\n",
    "    self.dropout2 = tf.keras.layers.Dropout(rate)\n",
    "    \n",
    "  def call(self, x, training, mask):\n",
    "\n",
    "    attn_output, _ = self.mha(x, x, x, mask)  # (batch_size, input_seq_len, d_model)\n",
    "    attn_output = self.dropout1(attn_output, training=training)\n",
    "    out1 = self.layernorm1(x + attn_output)  # (batch_size, input_seq_len, d_model)\n",
    "    \n",
    "    ffn_output = self.ffn(out1)  # (batch_size, input_seq_len, d_model)\n",
    "    ffn_output = self.dropout2(ffn_output, training=training)\n",
    "    out2 = self.layernorm2(out1 + ffn_output)  # (batch_size, input_seq_len, d_model)\n",
    "    \n",
    "    return out2"
   ]
  },
  {
   "cell_type": "code",
   "execution_count": 34,
   "metadata": {
    "colab": {},
    "colab_type": "code",
    "id": "AzZRXdO0mI48"
   },
   "outputs": [
    {
     "data": {
      "text/plain": [
       "TensorShape([64, 43, 512])"
      ]
     },
     "execution_count": 34,
     "metadata": {},
     "output_type": "execute_result"
    }
   ],
   "source": [
    "sample_encoder_layer = EncoderLayer(512, 8, 2048)\n",
    "\n",
    "sample_encoder_layer_output = sample_encoder_layer(\n",
    "    tf.random.uniform((64, 43, 512)), False, None)\n",
    "\n",
    "sample_encoder_layer_output.shape  # (batch_size, input_seq_len, d_model)"
   ]
  },
  {
   "cell_type": "code",
   "execution_count": 35,
   "metadata": {
    "colab": {},
    "colab_type": "code",
    "id": "9SoX0-vd1hue"
   },
   "outputs": [],
   "source": [
    "class DecoderLayer(tf.keras.layers.Layer):\n",
    "  def __init__(self, d_model, num_heads, dff, rate=0.1):\n",
    "    super(DecoderLayer, self).__init__()\n",
    "\n",
    "    self.mha1 = MultiHeadAttention(d_model, num_heads)\n",
    "    self.mha2 = MultiHeadAttention(d_model, num_heads)\n",
    "\n",
    "    self.ffn = point_wise_feed_forward_network(d_model, dff)\n",
    " \n",
    "    self.layernorm1 = tf.keras.layers.LayerNormalization(epsilon=1e-6)\n",
    "    self.layernorm2 = tf.keras.layers.LayerNormalization(epsilon=1e-6)\n",
    "    self.layernorm3 = tf.keras.layers.LayerNormalization(epsilon=1e-6)\n",
    "    \n",
    "    self.dropout1 = tf.keras.layers.Dropout(rate)\n",
    "    self.dropout2 = tf.keras.layers.Dropout(rate)\n",
    "    self.dropout3 = tf.keras.layers.Dropout(rate)\n",
    "    \n",
    "    \n",
    "  def call(self, x, enc_output, training, \n",
    "           look_ahead_mask, padding_mask):\n",
    "    # enc_output.shape == (batch_size, input_seq_len, d_model)\n",
    "\n",
    "    attn1, attn_weights_block1 = self.mha1(x, x, x, look_ahead_mask)  # (batch_size, target_seq_len, d_model)\n",
    "    attn1 = self.dropout1(attn1, training=training)\n",
    "    out1 = self.layernorm1(attn1 + x)\n",
    "    \n",
    "    attn2, attn_weights_block2 = self.mha2(\n",
    "        enc_output, enc_output, out1, padding_mask)  # (batch_size, target_seq_len, d_model)\n",
    "    attn2 = self.dropout2(attn2, training=training)\n",
    "    out2 = self.layernorm2(attn2 + out1)  # (batch_size, target_seq_len, d_model)\n",
    "    \n",
    "    ffn_output = self.ffn(out2)  # (batch_size, target_seq_len, d_model)\n",
    "    ffn_output = self.dropout3(ffn_output, training=training)\n",
    "    out3 = self.layernorm3(ffn_output + out2)  # (batch_size, target_seq_len, d_model)\n",
    "    \n",
    "    return out3, attn_weights_block1, attn_weights_block2"
   ]
  },
  {
   "cell_type": "code",
   "execution_count": 36,
   "metadata": {
    "colab": {},
    "colab_type": "code",
    "id": "Ne2Bqx8k71l0"
   },
   "outputs": [
    {
     "data": {
      "text/plain": [
       "TensorShape([64, 50, 512])"
      ]
     },
     "execution_count": 36,
     "metadata": {},
     "output_type": "execute_result"
    }
   ],
   "source": [
    "sample_decoder_layer = DecoderLayer(512, 8, 2048)\n",
    "\n",
    "sample_decoder_layer_output, _, _ = sample_decoder_layer(\n",
    "    tf.random.uniform((64, 50, 512)), sample_encoder_layer_output, \n",
    "    False, None, None)\n",
    "\n",
    "sample_decoder_layer_output.shape  # (batch_size, target_seq_len, d_model)"
   ]
  },
  {
   "cell_type": "code",
   "execution_count": 37,
   "metadata": {
    "colab": {},
    "colab_type": "code",
    "id": "jpEox7gJ8FCI"
   },
   "outputs": [],
   "source": [
    "class Encoder(tf.keras.layers.Layer):\n",
    "  def __init__(self, num_layers, d_model, num_heads, dff, input_vocab_size,\n",
    "               maximum_position_encoding, rate=0.1):\n",
    "    super(Encoder, self).__init__()\n",
    "\n",
    "    self.d_model = d_model\n",
    "    self.num_layers = num_layers\n",
    "    \n",
    "    self.embedding = tf.keras.layers.Embedding(input_vocab_size, d_model)\n",
    "    self.pos_encoding = positional_encoding(maximum_position_encoding, \n",
    "                                            self.d_model)\n",
    "    \n",
    "    \n",
    "    self.enc_layers = [EncoderLayer(d_model, num_heads, dff, rate) \n",
    "                       for _ in range(num_layers)]\n",
    "  \n",
    "    self.dropout = tf.keras.layers.Dropout(rate)\n",
    "        \n",
    "  def call(self, x, training, mask):\n",
    "\n",
    "    seq_len = tf.shape(x)[1]\n",
    "    \n",
    "    # adding embedding and position encoding.\n",
    "    x = self.embedding(x)  # (batch_size, input_seq_len, d_model)\n",
    "    x *= tf.math.sqrt(tf.cast(self.d_model, tf.float32))\n",
    "    x += self.pos_encoding[:, :seq_len, :]\n",
    "\n",
    "    x = self.dropout(x, training=training)\n",
    "    \n",
    "    for i in range(self.num_layers):\n",
    "      x = self.enc_layers[i](x, training, mask)\n",
    "    \n",
    "    return x  # (batch_size, input_seq_len, d_model)"
   ]
  },
  {
   "cell_type": "code",
   "execution_count": 38,
   "metadata": {
    "colab": {},
    "colab_type": "code",
    "id": "8QG9nueFQKXx"
   },
   "outputs": [
    {
     "name": "stdout",
     "output_type": "stream",
     "text": [
      "(64, 62, 512)\n"
     ]
    }
   ],
   "source": [
    "sample_encoder = Encoder(num_layers=2, d_model=512, num_heads=8, \n",
    "                         dff=2048, input_vocab_size=8500,\n",
    "                         maximum_position_encoding=10000)\n",
    "temp_input = tf.random.uniform((64, 62), dtype=tf.int64, minval=0, maxval=200)\n",
    "\n",
    "sample_encoder_output = sample_encoder(temp_input, training=False, mask=None)\n",
    "\n",
    "print (sample_encoder_output.shape)  # (batch_size, input_seq_len, d_model)"
   ]
  },
  {
   "cell_type": "code",
   "execution_count": 39,
   "metadata": {
    "colab": {},
    "colab_type": "code",
    "id": "d5_d5-PLQXwY"
   },
   "outputs": [],
   "source": [
    "class Decoder(tf.keras.layers.Layer):\n",
    "  def __init__(self, num_layers, d_model, num_heads, dff, target_vocab_size,\n",
    "               maximum_position_encoding, rate=0.1):\n",
    "    super(Decoder, self).__init__()\n",
    "\n",
    "    self.d_model = d_model\n",
    "    self.num_layers = num_layers\n",
    "    \n",
    "    self.embedding = tf.keras.layers.Embedding(target_vocab_size, d_model)\n",
    "    self.pos_encoding = positional_encoding(maximum_position_encoding, d_model)\n",
    "    \n",
    "    self.dec_layers = [DecoderLayer(d_model, num_heads, dff, rate) \n",
    "                       for _ in range(num_layers)]\n",
    "    self.dropout = tf.keras.layers.Dropout(rate)\n",
    "    \n",
    "  def call(self, x, enc_output, training, \n",
    "           look_ahead_mask, padding_mask):\n",
    "\n",
    "    seq_len = tf.shape(x)[1]\n",
    "    attention_weights = {}\n",
    "    \n",
    "    x = self.embedding(x)  # (batch_size, target_seq_len, d_model)\n",
    "    x *= tf.math.sqrt(tf.cast(self.d_model, tf.float32))\n",
    "    x += self.pos_encoding[:, :seq_len, :]\n",
    "    \n",
    "    x = self.dropout(x, training=training)\n",
    "\n",
    "    for i in range(self.num_layers):\n",
    "      x, block1, block2 = self.dec_layers[i](x, enc_output, training,\n",
    "                                             look_ahead_mask, padding_mask)\n",
    "      \n",
    "      attention_weights['decoder_layer{}_block1'.format(i+1)] = block1\n",
    "      attention_weights['decoder_layer{}_block2'.format(i+1)] = block2\n",
    "    \n",
    "    # x.shape == (batch_size, target_seq_len, d_model)\n",
    "    return x, attention_weights"
   ]
  },
  {
   "cell_type": "code",
   "execution_count": 40,
   "metadata": {
    "colab": {},
    "colab_type": "code",
    "id": "a1jXoAMRZyvu"
   },
   "outputs": [
    {
     "data": {
      "text/plain": [
       "(TensorShape([64, 26, 512]), TensorShape([64, 8, 26, 62]))"
      ]
     },
     "execution_count": 40,
     "metadata": {},
     "output_type": "execute_result"
    }
   ],
   "source": [
    "sample_decoder = Decoder(num_layers=2, d_model=512, num_heads=8, \n",
    "                         dff=2048, target_vocab_size=8000,\n",
    "                         maximum_position_encoding=5000)\n",
    "temp_input = tf.random.uniform((64, 26), dtype=tf.int64, minval=0, maxval=200)\n",
    "\n",
    "output, attn = sample_decoder(temp_input, \n",
    "                              enc_output=sample_encoder_output, \n",
    "                              training=False,\n",
    "                              look_ahead_mask=None, \n",
    "                              padding_mask=None)\n",
    "\n",
    "output.shape, attn['decoder_layer2_block2'].shape"
   ]
  },
  {
   "cell_type": "markdown",
   "metadata": {
    "colab_type": "text",
    "id": "y54xnJnuYgJ7"
   },
   "source": [
    "## Create the Transformer"
   ]
  },
  {
   "cell_type": "markdown",
   "metadata": {
    "colab_type": "text",
    "id": "uERO1y54cOKq"
   },
   "source": [
    "Transformer consists of the encoder, decoder and a final linear layer. The output of the decoder is the input to the linear layer and its output is returned."
   ]
  },
  {
   "cell_type": "code",
   "execution_count": 41,
   "metadata": {
    "colab": {},
    "colab_type": "code",
    "id": "PED3bIpOYkBu"
   },
   "outputs": [],
   "source": [
    "class Transformer(tf.keras.Model):\n",
    "  def __init__(self, num_layers, d_model, num_heads, dff, input_vocab_size, \n",
    "               target_vocab_size, pe_input, pe_target, rate=0.1):\n",
    "    super(Transformer, self).__init__()\n",
    "\n",
    "    self.encoder = Encoder(num_layers, d_model, num_heads, dff, \n",
    "                           input_vocab_size, pe_input, rate)\n",
    "\n",
    "    self.decoder = Decoder(num_layers, d_model, num_heads, dff, \n",
    "                           target_vocab_size, pe_target, rate)\n",
    "\n",
    "    self.final_layer = tf.keras.layers.Dense(target_vocab_size)\n",
    "    \n",
    "  def call(self, inp, tar, training, enc_padding_mask, \n",
    "           look_ahead_mask, dec_padding_mask):\n",
    "\n",
    "    enc_output = self.encoder(inp, training, enc_padding_mask)  # (batch_size, inp_seq_len, d_model)\n",
    "    \n",
    "    # dec_output.shape == (batch_size, tar_seq_len, d_model)\n",
    "    dec_output, attention_weights = self.decoder(\n",
    "        tar, enc_output, training, look_ahead_mask, dec_padding_mask)\n",
    "    \n",
    "    final_output = self.final_layer(dec_output)  # (batch_size, tar_seq_len, target_vocab_size)\n",
    "    \n",
    "    return final_output, attention_weights"
   ]
  },
  {
   "cell_type": "code",
   "execution_count": 42,
   "metadata": {
    "colab": {},
    "colab_type": "code",
    "id": "tJ4fbQcIkHW1"
   },
   "outputs": [
    {
     "data": {
      "text/plain": [
       "TensorShape([64, 36, 8000])"
      ]
     },
     "execution_count": 42,
     "metadata": {},
     "output_type": "execute_result"
    }
   ],
   "source": [
    "sample_transformer = Transformer(\n",
    "    num_layers=2, d_model=512, num_heads=8, dff=2048, \n",
    "    input_vocab_size=8500, target_vocab_size=8000, \n",
    "    pe_input=10000, pe_target=6000)\n",
    "\n",
    "temp_input = tf.random.uniform((64, 38), dtype=tf.int64, minval=0, maxval=200)\n",
    "temp_target = tf.random.uniform((64, 36), dtype=tf.int64, minval=0, maxval=200)\n",
    "\n",
    "fn_out, _ = sample_transformer(temp_input, temp_target, training=False, \n",
    "                               enc_padding_mask=None, \n",
    "                               look_ahead_mask=None,\n",
    "                               dec_padding_mask=None)\n",
    "\n",
    "fn_out.shape  # (batch_size, tar_seq_len, target_vocab_size)"
   ]
  },
  {
   "cell_type": "markdown",
   "metadata": {
    "colab_type": "text",
    "id": "wsINyf1VEQLC"
   },
   "source": [
    "## Set hyperparameters"
   ]
  },
  {
   "cell_type": "markdown",
   "metadata": {
    "colab_type": "text",
    "id": "zVjWCxFNcgbt"
   },
   "source": [
    "To keep this example small and relatively fast, the values for *num_layers, d_model, and dff* have been reduced. \n",
    "\n",
    "The values used in the base model of transformer were; *num_layers=6*, *d_model = 512*, *dff = 2048*. See the [paper](https://arxiv.org/abs/1706.03762) for all the other versions of the transformer.\n",
    "\n",
    "Note: By changing the values below, you can get the model that achieved state of the art on many tasks."
   ]
  },
  {
   "cell_type": "code",
   "execution_count": 43,
   "metadata": {
    "colab": {},
    "colab_type": "code",
    "id": "lnJn5SLA2ahP"
   },
   "outputs": [],
   "source": [
    "num_layers = 4\n",
    "d_model = 256\n",
    "dff = 1024\n",
    "num_heads = 8\n",
    "\n",
    "input_vocab_size = tokenizer_ru.vocab_size + 2\n",
    "target_vocab_size = tokenizer_en.vocab_size + 2\n",
    "dropout_rate = 0.1"
   ]
  },
  {
   "cell_type": "markdown",
   "metadata": {
    "colab_type": "text",
    "id": "xYEGhEOtzn5W"
   },
   "source": [
    "## Optimizer"
   ]
  },
  {
   "cell_type": "markdown",
   "metadata": {
    "colab_type": "text",
    "id": "GOmWW--yP3zx"
   },
   "source": [
    "Use the Adam optimizer with a custom learning rate scheduler according to the formula in the [paper](https://arxiv.org/abs/1706.03762).\n",
    "\n",
    "$$\\Large{lrate = d_{model}^{-0.5} * min(step{\\_}num^{-0.5}, step{\\_}num * warmup{\\_}steps^{-1.5})}$$\n"
   ]
  },
  {
   "cell_type": "code",
   "execution_count": 47,
   "metadata": {
    "colab": {},
    "colab_type": "code",
    "id": "iYQdOO1axwEI"
   },
   "outputs": [],
   "source": [
    "class CustomSchedule(tf.keras.optimizers.schedules.LearningRateSchedule):\n",
    "  def __init__(self, d_model, warmup_steps=4000):\n",
    "    super(CustomSchedule, self).__init__()\n",
    "    \n",
    "    self.d_model = d_model\n",
    "    self.d_model = tf.cast(self.d_model, tf.float32)\n",
    "\n",
    "    self.warmup_steps = warmup_steps\n",
    "    \n",
    "  def __call__(self, step):\n",
    "    arg1 = tf.math.rsqrt(step)\n",
    "    arg2 = step * (self.warmup_steps ** -1.5)\n",
    "    \n",
    "    return tf.math.rsqrt(self.d_model) * tf.math.minimum(arg1, arg2)"
   ]
  },
  {
   "cell_type": "code",
   "execution_count": 48,
   "metadata": {
    "colab": {},
    "colab_type": "code",
    "id": "7r4scdulztRx"
   },
   "outputs": [],
   "source": [
    "learning_rate = CustomSchedule(d_model)\n",
    "\n",
    "optimizer = tf.keras.optimizers.Adam(learning_rate, beta_1=0.9, beta_2=0.98, \n",
    "                                     epsilon=1e-9)"
   ]
  },
  {
   "cell_type": "code",
   "execution_count": 49,
   "metadata": {
    "colab": {},
    "colab_type": "code",
    "id": "f33ZCgvHpPdG"
   },
   "outputs": [
    {
     "data": {
      "text/plain": [
       "Text(0.5, 0, 'Train Step')"
      ]
     },
     "execution_count": 49,
     "metadata": {},
     "output_type": "execute_result"
    },
    {
     "data": {
      "image/png": "[encoded data removed]",
      "text/plain": [
       "<Figure size 432x288 with 1 Axes>"
      ]
     },
     "metadata": {
      "needs_background": "light"
     },
     "output_type": "display_data"
    }
   ],
   "source": [
    "temp_learning_rate_schedule = CustomSchedule(d_model)\n",
    "\n",
    "plt.plot(temp_learning_rate_schedule(tf.range(40000, dtype=tf.float32)))\n",
    "plt.ylabel(\"Learning Rate\")\n",
    "plt.xlabel(\"Train Step\")"
   ]
  },
  {
   "cell_type": "markdown",
   "metadata": {
    "colab_type": "text",
    "id": "YgkDE7hzo8r5"
   },
   "source": [
    "## Loss and metrics"
   ]
  },
  {
   "cell_type": "markdown",
   "metadata": {
    "colab_type": "text",
    "id": "oxGJtoDuYIHL"
   },
   "source": [
    "Since the target sequences are padded, it is important to apply a padding mask when calculating the loss."
   ]
  },
  {
   "cell_type": "code",
   "execution_count": 50,
   "metadata": {
    "colab": {},
    "colab_type": "code",
    "id": "MlhsJMm0TW_B"
   },
   "outputs": [],
   "source": [
    "loss_object = tf.keras.losses.SparseCategoricalCrossentropy(\n",
    "    from_logits=True, reduction='none')"
   ]
  },
  {
   "cell_type": "code",
   "execution_count": 51,
   "metadata": {
    "colab": {},
    "colab_type": "code",
    "id": "67oqVHiT0Eiu"
   },
   "outputs": [],
   "source": [
    "def loss_function(real, pred):\n",
    "  mask = tf.math.logical_not(tf.math.equal(real, 0))\n",
    "  loss_ = loss_object(real, pred)\n",
    "\n",
    "  mask = tf.cast(mask, dtype=loss_.dtype)\n",
    "  loss_ *= mask\n",
    "  \n",
    "  return tf.reduce_mean(loss_)"
   ]
  },
  {
   "cell_type": "code",
   "execution_count": 52,
   "metadata": {
    "colab": {},
    "colab_type": "code",
    "id": "phlyxMnm-Tpx"
   },
   "outputs": [],
   "source": [
    "train_loss = tf.keras.metrics.Mean(name='train_loss')\n",
    "train_accuracy = tf.keras.metrics.SparseCategoricalAccuracy(\n",
    "    name='train_accuracy')\n",
    "\n",
    "test_accuracy = tf.keras.metrics.SparseCategoricalAccuracy(name='test_accuracy')"
   ]
  },
  {
   "cell_type": "markdown",
   "metadata": {
    "colab_type": "text",
    "id": "aeHumfr7zmMa"
   },
   "source": [
    "## Training and checkpointing"
   ]
  },
  {
   "cell_type": "code",
   "execution_count": 53,
   "metadata": {
    "colab": {},
    "colab_type": "code",
    "id": "UiysUa--4tOU"
   },
   "outputs": [],
   "source": [
    "transformer = Transformer(num_layers, d_model, num_heads, dff,\n",
    "                          input_vocab_size, target_vocab_size, \n",
    "                          pe_input=input_vocab_size, \n",
    "                          pe_target=target_vocab_size,\n",
    "                          rate=dropout_rate)"
   ]
  },
  {
   "cell_type": "code",
   "execution_count": 54,
   "metadata": {
    "colab": {},
    "colab_type": "code",
    "id": "ZOJUSB1T8GjM"
   },
   "outputs": [],
   "source": [
    "def create_masks(inp, tar):\n",
    "  # Encoder padding mask\n",
    "  enc_padding_mask = create_padding_mask(inp)\n",
    "  \n",
    "  # Used in the 2nd attention block in the decoder.\n",
    "  # This padding mask is used to mask the encoder outputs.\n",
    "  dec_padding_mask = create_padding_mask(inp)\n",
    "  \n",
    "  # Used in the 1st attention block in the decoder.\n",
    "  # It is used to pad and mask future tokens in the input received by \n",
    "  # the decoder.\n",
    "  look_ahead_mask = create_look_ahead_mask(tf.shape(tar)[1])\n",
    "  dec_target_padding_mask = create_padding_mask(tar)\n",
    "  combined_mask = tf.maximum(dec_target_padding_mask, look_ahead_mask)\n",
    "  \n",
    "  return enc_padding_mask, combined_mask, dec_padding_mask"
   ]
  },
  {
   "cell_type": "markdown",
   "metadata": {
    "colab_type": "text",
    "id": "Fzuf06YZp66w"
   },
   "source": [
    "Create the checkpoint path and the checkpoint manager. This will be used to save checkpoints every `n` epochs."
   ]
  },
  {
   "cell_type": "code",
   "execution_count": 55,
   "metadata": {
    "colab": {},
    "colab_type": "code",
    "id": "hNhuYfllndLZ"
   },
   "outputs": [
    {
     "name": "stdout",
     "output_type": "stream",
     "text": [
      "Latest checkpoint restored!!\n"
     ]
    }
   ],
   "source": [
    "checkpoint_path = \"./checkpoints/train-2\"\n",
    "\n",
    "ckpt = tf.train.Checkpoint(transformer=transformer,\n",
    "                           optimizer=optimizer)\n",
    "\n",
    "ckpt_manager = tf.train.CheckpointManager(ckpt, checkpoint_path, max_to_keep=5)\n",
    "\n",
    "# if a checkpoint exists, restore the latest checkpoint.\n",
    "if ckpt_manager.latest_checkpoint:\n",
    "  ckpt.restore(ckpt_manager.latest_checkpoint)\n",
    "  print ('Latest checkpoint restored!!')"
   ]
  },
  {
   "cell_type": "markdown",
   "metadata": {
    "colab_type": "text",
    "id": "0Di_Yaa1gf9r"
   },
   "source": [
    "The target is divided into tar_inp and tar_real. tar_inp is passed as an input to the decoder. `tar_real` is that same input shifted by 1: At each location in `tar_input`, `tar_real` contains the  next token that should be predicted.\n",
    "\n",
    "For example, `sentence` = \"SOS A lion in the jungle is sleeping EOS\"\n",
    "\n",
    "`tar_inp` =  \"SOS A lion in the jungle is sleeping\"\n",
    "\n",
    "`tar_real` = \"A lion in the jungle is sleeping EOS\"\n",
    "\n",
    "The transformer is an auto-regressive model: it makes predictions one part at a time, and uses its output so far to decide what to do next. \n",
    "\n",
    "During training this example uses teacher-forcing (like in the [text generation tutorial](./text_generation.ipynb)). Teacher forcing is passing the true output to the next time step regardless of what the model predicts at the current time step.\n",
    "\n",
    "As the transformer predicts each word, *self-attention* allows it to look at the previous words in the input sequence to better predict the next word.\n",
    "\n",
    "To prevent the model from peaking at the expected output the model uses a look-ahead mask."
   ]
  },
  {
   "cell_type": "code",
   "execution_count": 56,
   "metadata": {
    "colab": {},
    "colab_type": "code",
    "id": "LKpoA6q1sJFj"
   },
   "outputs": [],
   "source": [
    "EPOCHS = 100"
   ]
  },
  {
   "cell_type": "code",
   "execution_count": 57,
   "metadata": {
    "colab": {},
    "colab_type": "code",
    "id": "iJwmp9OE29oj"
   },
   "outputs": [],
   "source": [
    "# The @tf.function trace-compiles train_step into a TF graph for faster\n",
    "# execution. The function specializes to the precise shape of the argument\n",
    "# tensors. To avoid re-tracing due to the variable sequence lengths or variable\n",
    "# batch sizes (the last batch is smaller), use input_signature to specify\n",
    "# more generic shapes.\n",
    "\n",
    "train_step_signature = [\n",
    "    tf.TensorSpec(shape=(None, None), dtype=tf.int64),\n",
    "    tf.TensorSpec(shape=(None, None), dtype=tf.int64),\n",
    "]\n",
    "\n",
    "@tf.function(input_signature=train_step_signature)\n",
    "def train_step(inp, tar):\n",
    "  tar_inp = tar[:, :-1]\n",
    "  tar_real = tar[:, 1:]\n",
    "  \n",
    "  enc_padding_mask, combined_mask, dec_padding_mask = create_masks(inp, tar_inp)\n",
    "  \n",
    "  with tf.GradientTape() as tape:\n",
    "    predictions, _ = transformer(inp, tar_inp, \n",
    "                                 True, \n",
    "                                 enc_padding_mask, \n",
    "                                 combined_mask, \n",
    "                                 dec_padding_mask)\n",
    "    loss = loss_function(tar_real, predictions)\n",
    "\n",
    "  gradients = tape.gradient(loss, transformer.trainable_variables)    \n",
    "  optimizer.apply_gradients(zip(gradients, transformer.trainable_variables))\n",
    "  \n",
    "  train_loss(loss)\n",
    "  train_accuracy(tar_real, predictions)"
   ]
  },
  {
   "cell_type": "code",
   "execution_count": 58,
   "metadata": {},
   "outputs": [],
   "source": [
    "@tf.function(input_signature=train_step_signature)\n",
    "def test_step(inp, tar):\n",
    "  tar_inp = tar[:, :-1]\n",
    "  tar_real = tar[:, 1:]\n",
    "  \n",
    "  enc_padding_mask, combined_mask, dec_padding_mask = create_masks(inp, tar_inp)\n",
    "  \n",
    "  with tf.GradientTape() as tape:\n",
    "    predictions, _ = transformer(inp, tar_inp, \n",
    "                                 True, \n",
    "                                 enc_padding_mask, \n",
    "                                 combined_mask, \n",
    "                                 dec_padding_mask)\n",
    "#     loss = loss_function(tar_real, predictions)\n",
    "\n",
    "#   gradients = tape.gradient(loss, transformer.trainable_variables)    \n",
    "#   optimizer.apply_gradients(zip(gradients, transformer.trainable_variables))\n",
    "  \n",
    "#   train_loss(loss)\n",
    "  test_accuracy(tar_real, predictions)"
   ]
  },
  {
   "cell_type": "markdown",
   "metadata": {
    "colab_type": "text",
    "id": "qM2PDWGDJ_8V"
   },
   "source": [
    "Portuguese is used as the input language and English is the target language."
   ]
  },
  {
   "cell_type": "code",
   "execution_count": 57,
   "metadata": {
    "colab": {},
    "colab_type": "code",
    "id": "bbvmaKNiznHZ",
    "scrolled": true
   },
   "outputs": [
    {
     "name": "stdout",
     "output_type": "stream",
     "text": [
      "Epoch 1 Batch 0 Loss 4.4519 Accuracy 0.0000\n",
      "Epoch 1 Batch 50 Loss 4.1490 Accuracy 0.0072\n",
      "Epoch 1 Batch 100 Loss 4.0486 Accuracy 0.0146\n",
      "Epoch 1 Batch 150 Loss 4.0052 Accuracy 0.0180\n",
      "Epoch 1 Batch 200 Loss 3.9320 Accuracy 0.0226\n",
      "Epoch 1 Batch 250 Loss 3.8297 Accuracy 0.0276\n",
      "Epoch 1 Batch 300 Loss 3.7156 Accuracy 0.0312\n",
      "Epoch 1 Batch 350 Loss 3.6057 Accuracy 0.0341\n",
      "Epoch 1 Batch 400 Loss 3.5050 Accuracy 0.0366\n",
      "Epoch 1 Batch 450 Loss 3.4180 Accuracy 0.0401\n",
      "Epoch 1 Batch 500 Loss 3.3383 Accuracy 0.0439\n",
      "Epoch 1 Batch 550 Loss 3.2670 Accuracy 0.0477\n",
      "Epoch 1 Batch 600 Loss 3.2023 Accuracy 0.0515\n",
      "Epoch 1 Batch 650 Loss 3.1385 Accuracy 0.0550\n",
      "Epoch 1 Batch 700 Loss 3.0779 Accuracy 0.0584\n",
      "Epoch 1 Batch 750 Loss 3.0236 Accuracy 0.0616\n",
      "Epoch 1 Batch 800 Loss 2.9744 Accuracy 0.0647\n",
      "Epoch 1 Batch 850 Loss 2.9299 Accuracy 0.0676\n",
      "Epoch 1 Batch 900 Loss 2.8873 Accuracy 0.0703\n",
      "Epoch 1 Batch 950 Loss 2.8487 Accuracy 0.0729\n",
      "Epoch 1 Batch 1000 Loss 2.8127 Accuracy 0.0754\n",
      "Epoch 1 Batch 1050 Loss 2.7776 Accuracy 0.0776\n",
      "Epoch 1 Batch 1100 Loss 2.7454 Accuracy 0.0796\n",
      "Epoch 1 Batch 1150 Loss 2.7175 Accuracy 0.0817\n",
      "Epoch 1 Batch 1200 Loss 2.6889 Accuracy 0.0836\n",
      "Epoch 1 Batch 1250 Loss 2.6633 Accuracy 0.0854\n",
      "Epoch 1 Batch 1300 Loss 2.6389 Accuracy 0.0871\n",
      "Epoch 1 Batch 1350 Loss 2.6154 Accuracy 0.0887\n",
      "Epoch 1 Batch 1400 Loss 2.5928 Accuracy 0.0902\n",
      "Epoch 1 Batch 1450 Loss 2.5704 Accuracy 0.0916\n",
      "Epoch 1 Batch 1500 Loss 2.5501 Accuracy 0.0930\n",
      "Epoch 1 Loss 2.5487 Accuracy 0.0931\n",
      "Time taken for 1 epoch: 515.5405519008636 secs\n",
      "\n",
      "Epoch 2 Batch 0 Loss 2.1671 Accuracy 0.1411\n",
      "Epoch 2 Batch 50 Loss 1.9420 Accuracy 0.1375\n",
      "Epoch 2 Batch 100 Loss 1.9326 Accuracy 0.1375\n",
      "Epoch 2 Batch 150 Loss 1.9284 Accuracy 0.1381\n",
      "Epoch 2 Batch 200 Loss 1.9196 Accuracy 0.1385\n",
      "Epoch 2 Batch 250 Loss 1.9177 Accuracy 0.1393\n",
      "Epoch 2 Batch 300 Loss 1.9119 Accuracy 0.1399\n",
      "Epoch 2 Batch 350 Loss 1.9029 Accuracy 0.1405\n",
      "Epoch 2 Batch 400 Loss 1.8976 Accuracy 0.1412\n",
      "Epoch 2 Batch 450 Loss 1.8903 Accuracy 0.1421\n",
      "Epoch 2 Batch 500 Loss 1.8798 Accuracy 0.1427\n",
      "Epoch 2 Batch 550 Loss 1.8734 Accuracy 0.1435\n",
      "Epoch 2 Batch 600 Loss 1.8657 Accuracy 0.1441\n",
      "Epoch 2 Batch 650 Loss 1.8568 Accuracy 0.1446\n",
      "Epoch 2 Batch 700 Loss 1.8503 Accuracy 0.1454\n",
      "Epoch 2 Batch 750 Loss 1.8436 Accuracy 0.1462\n",
      "Epoch 2 Batch 800 Loss 1.8367 Accuracy 0.1470\n",
      "Epoch 2 Batch 850 Loss 1.8303 Accuracy 0.1477\n",
      "Epoch 2 Batch 900 Loss 1.8227 Accuracy 0.1483\n",
      "Epoch 2 Batch 950 Loss 1.8165 Accuracy 0.1489\n",
      "Epoch 2 Batch 1000 Loss 1.8102 Accuracy 0.1496\n",
      "Epoch 2 Batch 1050 Loss 1.8047 Accuracy 0.1503\n",
      "Epoch 2 Batch 1100 Loss 1.7982 Accuracy 0.1509\n",
      "Epoch 2 Batch 1150 Loss 1.7915 Accuracy 0.1514\n",
      "Epoch 2 Batch 1200 Loss 1.7857 Accuracy 0.1521\n",
      "Epoch 2 Batch 1250 Loss 1.7791 Accuracy 0.1526\n",
      "Epoch 2 Batch 1300 Loss 1.7723 Accuracy 0.1532\n",
      "Epoch 2 Batch 1350 Loss 1.7664 Accuracy 0.1538\n",
      "Epoch 2 Batch 1400 Loss 1.7613 Accuracy 0.1545\n",
      "Epoch 2 Batch 1450 Loss 1.7560 Accuracy 0.1551\n",
      "Epoch 2 Batch 1500 Loss 1.7502 Accuracy 0.1557\n",
      "Epoch 2 Loss 1.7499 Accuracy 0.1557\n",
      "Time taken for 1 epoch: 465.1382427215576 secs\n",
      "\n",
      "Epoch 3 Batch 0 Loss 1.6040 Accuracy 0.1830\n",
      "Epoch 3 Batch 50 Loss 1.5695 Accuracy 0.1733\n",
      "Epoch 3 Batch 100 Loss 1.5683 Accuracy 0.1740\n",
      "Epoch 3 Batch 150 Loss 1.5565 Accuracy 0.1741\n",
      "Epoch 3 Batch 200 Loss 1.5492 Accuracy 0.1746\n",
      "Epoch 3 Batch 250 Loss 1.5499 Accuracy 0.1752\n",
      "Epoch 3 Batch 300 Loss 1.5443 Accuracy 0.1759\n",
      "Epoch 3 Batch 350 Loss 1.5385 Accuracy 0.1763\n",
      "Epoch 3 Batch 400 Loss 1.5350 Accuracy 0.1771\n",
      "Epoch 3 Batch 450 Loss 1.5313 Accuracy 0.1776\n",
      "Epoch 3 Batch 500 Loss 1.5283 Accuracy 0.1780\n",
      "Epoch 3 Batch 550 Loss 1.5235 Accuracy 0.1786\n",
      "Epoch 3 Batch 600 Loss 1.5198 Accuracy 0.1790\n",
      "Epoch 3 Batch 650 Loss 1.5154 Accuracy 0.1794\n",
      "Epoch 3 Batch 700 Loss 1.5096 Accuracy 0.1798\n",
      "Epoch 3 Batch 750 Loss 1.5060 Accuracy 0.1802\n",
      "Epoch 3 Batch 800 Loss 1.5031 Accuracy 0.1807\n",
      "Epoch 3 Batch 850 Loss 1.4989 Accuracy 0.1811\n",
      "Epoch 3 Batch 900 Loss 1.4953 Accuracy 0.1814\n",
      "Epoch 3 Batch 950 Loss 1.4903 Accuracy 0.1818\n",
      "Epoch 3 Batch 1000 Loss 1.4862 Accuracy 0.1822\n",
      "Epoch 3 Batch 1050 Loss 1.4818 Accuracy 0.1825\n",
      "Epoch 3 Batch 1100 Loss 1.4776 Accuracy 0.1829\n",
      "Epoch 3 Batch 1150 Loss 1.4732 Accuracy 0.1833\n",
      "Epoch 3 Batch 1200 Loss 1.4688 Accuracy 0.1837\n",
      "Epoch 3 Batch 1250 Loss 1.4648 Accuracy 0.1841\n",
      "Epoch 3 Batch 1300 Loss 1.4608 Accuracy 0.1845\n",
      "Epoch 3 Batch 1350 Loss 1.4573 Accuracy 0.1849\n",
      "Epoch 3 Batch 1400 Loss 1.4538 Accuracy 0.1854\n",
      "Epoch 3 Batch 1450 Loss 1.4499 Accuracy 0.1858\n",
      "Epoch 3 Batch 1500 Loss 1.4459 Accuracy 0.1861\n",
      "Epoch 3 Loss 1.4456 Accuracy 0.1861\n",
      "Time taken for 1 epoch: 463.800598859787 secs\n",
      "\n",
      "Epoch 4 Batch 0 Loss 1.3439 Accuracy 0.1975\n",
      "Epoch 4 Batch 50 Loss 1.2969 Accuracy 0.1981\n",
      "Epoch 4 Batch 100 Loss 1.2987 Accuracy 0.1986\n",
      "Epoch 4 Batch 150 Loss 1.3035 Accuracy 0.1993\n",
      "Epoch 4 Batch 200 Loss 1.3010 Accuracy 0.2003\n",
      "Epoch 4 Batch 250 Loss 1.2960 Accuracy 0.2008\n",
      "Epoch 4 Batch 300 Loss 1.2923 Accuracy 0.2010\n",
      "Epoch 4 Batch 350 Loss 1.2879 Accuracy 0.2011\n",
      "Epoch 4 Batch 400 Loss 1.2862 Accuracy 0.2018\n",
      "Epoch 4 Batch 450 Loss 1.2841 Accuracy 0.2024\n",
      "Epoch 4 Batch 500 Loss 1.2802 Accuracy 0.2027\n",
      "Epoch 4 Batch 550 Loss 1.2767 Accuracy 0.2032\n",
      "Epoch 4 Batch 600 Loss 1.2740 Accuracy 0.2036\n",
      "Epoch 4 Batch 650 Loss 1.2706 Accuracy 0.2040\n",
      "Epoch 4 Batch 700 Loss 1.2673 Accuracy 0.2042\n",
      "Epoch 4 Batch 750 Loss 1.2645 Accuracy 0.2046\n",
      "Epoch 4 Batch 800 Loss 1.2612 Accuracy 0.2050\n",
      "Epoch 4 Batch 850 Loss 1.2576 Accuracy 0.2054\n",
      "Epoch 4 Batch 900 Loss 1.2549 Accuracy 0.2057\n",
      "Epoch 4 Batch 950 Loss 1.2520 Accuracy 0.2060\n",
      "Epoch 4 Batch 1000 Loss 1.2500 Accuracy 0.2063\n",
      "Epoch 4 Batch 1050 Loss 1.2463 Accuracy 0.2067\n",
      "Epoch 4 Batch 1100 Loss 1.2431 Accuracy 0.2070\n",
      "Epoch 4 Batch 1150 Loss 1.2401 Accuracy 0.2074\n",
      "Epoch 4 Batch 1200 Loss 1.2370 Accuracy 0.2076\n",
      "Epoch 4 Batch 1250 Loss 1.2334 Accuracy 0.2079\n",
      "Epoch 4 Batch 1300 Loss 1.2310 Accuracy 0.2082\n",
      "Epoch 4 Batch 1350 Loss 1.2282 Accuracy 0.2084\n",
      "Epoch 4 Batch 1400 Loss 1.2256 Accuracy 0.2087\n",
      "Epoch 4 Batch 1450 Loss 1.2226 Accuracy 0.2089\n",
      "Epoch 4 Batch 1500 Loss 1.2198 Accuracy 0.2092\n",
      "Epoch 4 Loss 1.2199 Accuracy 0.2093\n",
      "Time taken for 1 epoch: 456.8824300765991 secs\n",
      "\n",
      "Epoch 5 Batch 0 Loss 1.1253 Accuracy 0.2100\n",
      "Epoch 5 Batch 50 Loss 1.1292 Accuracy 0.2187\n",
      "Epoch 5 Batch 100 Loss 1.1223 Accuracy 0.2188\n",
      "Epoch 5 Batch 150 Loss 1.1236 Accuracy 0.2191\n",
      "Epoch 5 Batch 200 Loss 1.1267 Accuracy 0.2198\n",
      "Epoch 5 Batch 250 Loss 1.1272 Accuracy 0.2203\n",
      "Epoch 5 Batch 300 Loss 1.1254 Accuracy 0.2203\n",
      "Epoch 5 Batch 350 Loss 1.1220 Accuracy 0.2204\n",
      "Epoch 5 Batch 400 Loss 1.1193 Accuracy 0.2206\n",
      "Epoch 5 Batch 450 Loss 1.1163 Accuracy 0.2205\n",
      "Epoch 5 Batch 500 Loss 1.1134 Accuracy 0.2208\n",
      "Epoch 5 Batch 550 Loss 1.1099 Accuracy 0.2212\n",
      "Epoch 5 Batch 600 Loss 1.1066 Accuracy 0.2210\n",
      "Epoch 5 Batch 650 Loss 1.1061 Accuracy 0.2214\n",
      "Epoch 5 Batch 700 Loss 1.1040 Accuracy 0.2215\n",
      "Epoch 5 Batch 750 Loss 1.1022 Accuracy 0.2217\n",
      "Epoch 5 Batch 800 Loss 1.1006 Accuracy 0.2220\n",
      "Epoch 5 Batch 850 Loss 1.0996 Accuracy 0.2223\n",
      "Epoch 5 Batch 900 Loss 1.0982 Accuracy 0.2226\n",
      "Epoch 5 Batch 950 Loss 1.0963 Accuracy 0.2228\n",
      "Epoch 5 Batch 1000 Loss 1.0944 Accuracy 0.2230\n",
      "Epoch 5 Batch 1050 Loss 1.0927 Accuracy 0.2232\n",
      "Epoch 5 Batch 1100 Loss 1.0906 Accuracy 0.2233\n",
      "Epoch 5 Batch 1150 Loss 1.0889 Accuracy 0.2235\n",
      "Epoch 5 Batch 1200 Loss 1.0871 Accuracy 0.2237\n",
      "Epoch 5 Batch 1250 Loss 1.0850 Accuracy 0.2238\n",
      "Epoch 5 Batch 1300 Loss 1.0832 Accuracy 0.2240\n",
      "Epoch 5 Batch 1350 Loss 1.0822 Accuracy 0.2243\n",
      "Epoch 5 Batch 1400 Loss 1.0810 Accuracy 0.2245\n",
      "Epoch 5 Batch 1450 Loss 1.0797 Accuracy 0.2247\n",
      "Epoch 5 Batch 1500 Loss 1.0782 Accuracy 0.2248\n",
      "Saving checkpoint for epoch 5 at ./checkpoints/train-2/ckpt-1\n",
      "Epoch 5 Loss 1.0782 Accuracy 0.2248\n",
      "Time taken for 1 epoch: 463.27598762512207 secs\n",
      "\n",
      "Epoch 6 Batch 0 Loss 1.1267 Accuracy 0.2201\n",
      "Epoch 6 Batch 50 Loss 1.0301 Accuracy 0.2316\n",
      "Epoch 6 Batch 100 Loss 1.0244 Accuracy 0.2322\n",
      "Epoch 6 Batch 150 Loss 1.0209 Accuracy 0.2322\n",
      "Epoch 6 Batch 200 Loss 1.0204 Accuracy 0.2324\n",
      "Epoch 6 Batch 250 Loss 1.0179 Accuracy 0.2328\n",
      "Epoch 6 Batch 300 Loss 1.0173 Accuracy 0.2328\n",
      "Epoch 6 Batch 350 Loss 1.0151 Accuracy 0.2325\n",
      "Epoch 6 Batch 400 Loss 1.0122 Accuracy 0.2325\n",
      "Epoch 6 Batch 450 Loss 1.0116 Accuracy 0.2326\n",
      "Epoch 6 Batch 500 Loss 1.0107 Accuracy 0.2328\n",
      "Epoch 6 Batch 550 Loss 1.0078 Accuracy 0.2327\n",
      "Epoch 6 Batch 600 Loss 1.0054 Accuracy 0.2326\n",
      "Epoch 6 Batch 650 Loss 1.0051 Accuracy 0.2328\n",
      "Epoch 6 Batch 700 Loss 1.0051 Accuracy 0.2330\n",
      "Epoch 6 Batch 750 Loss 1.0040 Accuracy 0.2332\n",
      "Epoch 6 Batch 800 Loss 1.0029 Accuracy 0.2334\n",
      "Epoch 6 Batch 850 Loss 1.0023 Accuracy 0.2337\n",
      "Epoch 6 Batch 900 Loss 1.0012 Accuracy 0.2339\n",
      "Epoch 6 Batch 950 Loss 0.9998 Accuracy 0.2339\n",
      "Epoch 6 Batch 1000 Loss 0.9995 Accuracy 0.2344\n",
      "Epoch 6 Batch 1050 Loss 0.9979 Accuracy 0.2345\n",
      "Epoch 6 Batch 1100 Loss 0.9968 Accuracy 0.2346\n",
      "Epoch 6 Batch 1150 Loss 0.9960 Accuracy 0.2348\n",
      "Epoch 6 Batch 1200 Loss 0.9948 Accuracy 0.2349\n",
      "Epoch 6 Batch 1250 Loss 0.9938 Accuracy 0.2349\n",
      "Epoch 6 Batch 1300 Loss 0.9919 Accuracy 0.2350\n",
      "Epoch 6 Batch 1350 Loss 0.9907 Accuracy 0.2351\n",
      "Epoch 6 Batch 1400 Loss 0.9899 Accuracy 0.2353\n",
      "Epoch 6 Batch 1450 Loss 0.9888 Accuracy 0.2354\n",
      "Epoch 6 Batch 1500 Loss 0.9878 Accuracy 0.2355\n",
      "Epoch 6 Loss 0.9878 Accuracy 0.2354\n",
      "Time taken for 1 epoch: 460.69734144210815 secs\n",
      "\n",
      "Epoch 7 Batch 0 Loss 0.9182 Accuracy 0.2379\n",
      "Epoch 7 Batch 50 Loss 0.9300 Accuracy 0.2373\n",
      "Epoch 7 Batch 100 Loss 0.9443 Accuracy 0.2398\n",
      "Epoch 7 Batch 150 Loss 0.9382 Accuracy 0.2405\n",
      "Epoch 7 Batch 200 Loss 0.9421 Accuracy 0.2409\n",
      "Epoch 7 Batch 250 Loss 0.9427 Accuracy 0.2408\n",
      "Epoch 7 Batch 300 Loss 0.9429 Accuracy 0.2411\n",
      "Epoch 7 Batch 350 Loss 0.9419 Accuracy 0.2409\n",
      "Epoch 7 Batch 400 Loss 0.9402 Accuracy 0.2410\n",
      "Epoch 7 Batch 450 Loss 0.9408 Accuracy 0.2413\n",
      "Epoch 7 Batch 500 Loss 0.9386 Accuracy 0.2411\n",
      "Epoch 7 Batch 550 Loss 0.9387 Accuracy 0.2414\n",
      "Epoch 7 Batch 600 Loss 0.9376 Accuracy 0.2413\n",
      "Epoch 7 Batch 650 Loss 0.9369 Accuracy 0.2415\n",
      "Epoch 7 Batch 700 Loss 0.9370 Accuracy 0.2417\n",
      "Epoch 7 Batch 750 Loss 0.9361 Accuracy 0.2418\n",
      "Epoch 7 Batch 800 Loss 0.9350 Accuracy 0.2419\n",
      "Epoch 7 Batch 850 Loss 0.9348 Accuracy 0.2423\n",
      "Epoch 7 Batch 900 Loss 0.9338 Accuracy 0.2425\n",
      "Epoch 7 Batch 950 Loss 0.9328 Accuracy 0.2425\n",
      "Epoch 7 Batch 1000 Loss 0.9319 Accuracy 0.2426\n",
      "Epoch 7 Batch 1050 Loss 0.9309 Accuracy 0.2428\n",
      "Epoch 7 Batch 1100 Loss 0.9298 Accuracy 0.2429\n",
      "Epoch 7 Batch 1150 Loss 0.9283 Accuracy 0.2429\n",
      "Epoch 7 Batch 1200 Loss 0.9272 Accuracy 0.2430\n",
      "Epoch 7 Batch 1250 Loss 0.9258 Accuracy 0.2430\n",
      "Epoch 7 Batch 1300 Loss 0.9249 Accuracy 0.2431\n",
      "Epoch 7 Batch 1350 Loss 0.9241 Accuracy 0.2432\n",
      "Epoch 7 Batch 1400 Loss 0.9236 Accuracy 0.2433\n",
      "Epoch 7 Batch 1450 Loss 0.9226 Accuracy 0.2434\n",
      "Epoch 7 Batch 1500 Loss 0.9222 Accuracy 0.2435\n",
      "Epoch 7 Loss 0.9221 Accuracy 0.2435\n",
      "Time taken for 1 epoch: 468.56915044784546 secs\n",
      "\n",
      "Epoch 8 Batch 0 Loss 0.8502 Accuracy 0.2460\n",
      "Epoch 8 Batch 50 Loss 0.8891 Accuracy 0.2484\n",
      "Epoch 8 Batch 100 Loss 0.8917 Accuracy 0.2479\n",
      "Epoch 8 Batch 150 Loss 0.8937 Accuracy 0.2496\n",
      "Epoch 8 Batch 200 Loss 0.8889 Accuracy 0.2489\n",
      "Epoch 8 Batch 250 Loss 0.8851 Accuracy 0.2487\n",
      "Epoch 8 Batch 300 Loss 0.8847 Accuracy 0.2488\n",
      "Epoch 8 Batch 350 Loss 0.8833 Accuracy 0.2486\n",
      "Epoch 8 Batch 400 Loss 0.8849 Accuracy 0.2492\n",
      "Epoch 8 Batch 450 Loss 0.8852 Accuracy 0.2490\n",
      "Epoch 8 Batch 500 Loss 0.8836 Accuracy 0.2491\n",
      "Epoch 8 Batch 550 Loss 0.8827 Accuracy 0.2491\n",
      "Epoch 8 Batch 600 Loss 0.8817 Accuracy 0.2492\n",
      "Epoch 8 Batch 650 Loss 0.8818 Accuracy 0.2491\n",
      "Epoch 8 Batch 700 Loss 0.8811 Accuracy 0.2492\n",
      "Epoch 8 Batch 750 Loss 0.8803 Accuracy 0.2492\n",
      "Epoch 8 Batch 800 Loss 0.8792 Accuracy 0.2491\n",
      "Epoch 8 Batch 850 Loss 0.8786 Accuracy 0.2493\n",
      "Epoch 8 Batch 900 Loss 0.8783 Accuracy 0.2494\n",
      "Epoch 8 Batch 950 Loss 0.8778 Accuracy 0.2494\n",
      "Epoch 8 Batch 1000 Loss 0.8772 Accuracy 0.2496\n",
      "Epoch 8 Batch 1050 Loss 0.8764 Accuracy 0.2497\n",
      "Epoch 8 Batch 1100 Loss 0.8758 Accuracy 0.2499\n",
      "Epoch 8 Batch 1150 Loss 0.8747 Accuracy 0.2499\n",
      "Epoch 8 Batch 1200 Loss 0.8743 Accuracy 0.2500\n",
      "Epoch 8 Batch 1250 Loss 0.8734 Accuracy 0.2500\n",
      "Epoch 8 Batch 1300 Loss 0.8728 Accuracy 0.2501\n",
      "Epoch 8 Batch 1350 Loss 0.8716 Accuracy 0.2501\n",
      "Epoch 8 Batch 1400 Loss 0.8707 Accuracy 0.2501\n",
      "Epoch 8 Batch 1450 Loss 0.8705 Accuracy 0.2503\n",
      "Epoch 8 Batch 1500 Loss 0.8705 Accuracy 0.2504\n",
      "Epoch 8 Loss 0.8704 Accuracy 0.2504\n",
      "Time taken for 1 epoch: 461.98932218551636 secs\n",
      "\n",
      "Epoch 9 Batch 0 Loss 0.7910 Accuracy 0.2479\n",
      "Epoch 9 Batch 50 Loss 0.8364 Accuracy 0.2530\n",
      "Epoch 9 Batch 100 Loss 0.8310 Accuracy 0.2529\n",
      "Epoch 9 Batch 150 Loss 0.8391 Accuracy 0.2538\n",
      "Epoch 9 Batch 200 Loss 0.8391 Accuracy 0.2538\n",
      "Epoch 9 Batch 250 Loss 0.8403 Accuracy 0.2542\n",
      "Epoch 9 Batch 300 Loss 0.8408 Accuracy 0.2544\n",
      "Epoch 9 Batch 350 Loss 0.8404 Accuracy 0.2546\n",
      "Epoch 9 Batch 400 Loss 0.8391 Accuracy 0.2548\n",
      "Epoch 9 Batch 450 Loss 0.8391 Accuracy 0.2549\n",
      "Epoch 9 Batch 500 Loss 0.8392 Accuracy 0.2551\n",
      "Epoch 9 Batch 550 Loss 0.8389 Accuracy 0.2551\n",
      "Epoch 9 Batch 600 Loss 0.8384 Accuracy 0.2551\n",
      "Epoch 9 Batch 650 Loss 0.8363 Accuracy 0.2548\n",
      "Epoch 9 Batch 700 Loss 0.8353 Accuracy 0.2547\n",
      "Epoch 9 Batch 750 Loss 0.8351 Accuracy 0.2549\n",
      "Epoch 9 Batch 800 Loss 0.8349 Accuracy 0.2549\n",
      "Epoch 9 Batch 850 Loss 0.8337 Accuracy 0.2549\n",
      "Epoch 9 Batch 900 Loss 0.8330 Accuracy 0.2551\n",
      "Epoch 9 Batch 950 Loss 0.8327 Accuracy 0.2552\n",
      "Epoch 9 Batch 1000 Loss 0.8329 Accuracy 0.2555\n",
      "Epoch 9 Batch 1050 Loss 0.8320 Accuracy 0.2555\n",
      "Epoch 9 Batch 1100 Loss 0.8313 Accuracy 0.2556\n",
      "Epoch 9 Batch 1150 Loss 0.8307 Accuracy 0.2557\n",
      "Epoch 9 Batch 1200 Loss 0.8302 Accuracy 0.2558\n",
      "Epoch 9 Batch 1250 Loss 0.8294 Accuracy 0.2558\n",
      "Epoch 9 Batch 1300 Loss 0.8288 Accuracy 0.2559\n",
      "Epoch 9 Batch 1350 Loss 0.8285 Accuracy 0.2560\n",
      "Epoch 9 Batch 1400 Loss 0.8280 Accuracy 0.2561\n",
      "Epoch 9 Batch 1450 Loss 0.8276 Accuracy 0.2562\n",
      "Epoch 9 Batch 1500 Loss 0.8271 Accuracy 0.2562\n",
      "Epoch 9 Loss 0.8271 Accuracy 0.2562\n",
      "Time taken for 1 epoch: 465.1774516105652 secs\n",
      "\n",
      "Epoch 10 Batch 0 Loss 0.8037 Accuracy 0.2484\n",
      "Epoch 10 Batch 50 Loss 0.7920 Accuracy 0.2571\n",
      "Epoch 10 Batch 100 Loss 0.7935 Accuracy 0.2590\n",
      "Epoch 10 Batch 450 Loss 0.7992 Accuracy 0.2603\n",
      "Epoch 10 Batch 500 Loss 0.7994 Accuracy 0.2602\n",
      "Epoch 10 Batch 550 Loss 0.7989 Accuracy 0.2601\n",
      "Epoch 10 Batch 600 Loss 0.7975 Accuracy 0.2602\n",
      "Epoch 10 Batch 650 Loss 0.7975 Accuracy 0.2602\n",
      "Epoch 10 Batch 700 Loss 0.7977 Accuracy 0.2603\n",
      "Epoch 10 Batch 750 Loss 0.7976 Accuracy 0.2603\n",
      "Epoch 10 Batch 800 Loss 0.7972 Accuracy 0.2605\n",
      "Epoch 10 Batch 850 Loss 0.7964 Accuracy 0.2605\n",
      "Epoch 10 Batch 900 Loss 0.7959 Accuracy 0.2605\n",
      "Epoch 10 Batch 950 Loss 0.7955 Accuracy 0.2606\n",
      "Epoch 10 Batch 1000 Loss 0.7951 Accuracy 0.2608\n",
      "Epoch 10 Batch 1050 Loss 0.7943 Accuracy 0.2607\n",
      "Epoch 10 Batch 1100 Loss 0.7934 Accuracy 0.2607\n",
      "Epoch 10 Batch 1150 Loss 0.7927 Accuracy 0.2607\n",
      "Epoch 10 Batch 1200 Loss 0.7923 Accuracy 0.2607\n",
      "Epoch 10 Batch 1250 Loss 0.7922 Accuracy 0.2608\n",
      "Epoch 10 Batch 1300 Loss 0.7914 Accuracy 0.2608\n",
      "Epoch 10 Batch 1350 Loss 0.7911 Accuracy 0.2609\n",
      "Epoch 10 Batch 1400 Loss 0.7908 Accuracy 0.2610\n",
      "Epoch 10 Batch 1450 Loss 0.7902 Accuracy 0.2610\n",
      "Epoch 10 Batch 1500 Loss 0.7896 Accuracy 0.2610\n",
      "Saving checkpoint for epoch 10 at ./checkpoints/train-2/ckpt-2\n",
      "Epoch 10 Loss 0.7895 Accuracy 0.2610\n",
      "Time taken for 1 epoch: 464.85156631469727 secs\n",
      "\n",
      "Epoch 11 Batch 0 Loss 0.8244 Accuracy 0.2692\n",
      "Epoch 11 Batch 50 Loss 0.7670 Accuracy 0.2629\n",
      "Epoch 11 Batch 100 Loss 0.7672 Accuracy 0.2638\n",
      "Epoch 11 Batch 150 Loss 0.7681 Accuracy 0.2645\n",
      "Epoch 11 Batch 200 Loss 0.7678 Accuracy 0.2639\n",
      "Epoch 11 Batch 250 Loss 0.7655 Accuracy 0.2643\n",
      "Epoch 11 Batch 300 Loss 0.7648 Accuracy 0.2643\n",
      "Epoch 11 Batch 350 Loss 0.7637 Accuracy 0.2645\n",
      "Epoch 11 Batch 400 Loss 0.7645 Accuracy 0.2645\n",
      "Epoch 11 Batch 450 Loss 0.7647 Accuracy 0.2645\n",
      "Epoch 11 Batch 500 Loss 0.7647 Accuracy 0.2646\n",
      "Epoch 11 Batch 550 Loss 0.7643 Accuracy 0.2648\n",
      "Epoch 11 Batch 600 Loss 0.7641 Accuracy 0.2649\n",
      "Epoch 11 Batch 650 Loss 0.7633 Accuracy 0.2648\n",
      "Epoch 11 Batch 700 Loss 0.7637 Accuracy 0.2650\n",
      "Epoch 11 Batch 750 Loss 0.7641 Accuracy 0.2650\n",
      "Epoch 11 Batch 800 Loss 0.7638 Accuracy 0.2652\n",
      "Epoch 11 Batch 850 Loss 0.7630 Accuracy 0.2651\n",
      "Epoch 11 Batch 900 Loss 0.7623 Accuracy 0.2651\n",
      "Epoch 11 Batch 950 Loss 0.7620 Accuracy 0.2652\n",
      "Epoch 11 Batch 1000 Loss 0.7613 Accuracy 0.2653\n",
      "Epoch 11 Batch 1050 Loss 0.7613 Accuracy 0.2654\n",
      "Epoch 11 Batch 1100 Loss 0.7605 Accuracy 0.2655\n",
      "Epoch 11 Batch 1150 Loss 0.7596 Accuracy 0.2655\n",
      "Epoch 11 Batch 1200 Loss 0.7590 Accuracy 0.2655\n",
      "Epoch 11 Batch 1250 Loss 0.7589 Accuracy 0.2656\n",
      "Epoch 11 Batch 1300 Loss 0.7583 Accuracy 0.2656\n",
      "Epoch 11 Batch 1350 Loss 0.7581 Accuracy 0.2656\n",
      "Epoch 11 Batch 1400 Loss 0.7582 Accuracy 0.2657\n",
      "Epoch 11 Batch 1450 Loss 0.7576 Accuracy 0.2657\n",
      "Epoch 11 Batch 1500 Loss 0.7575 Accuracy 0.2657\n",
      "Epoch 11 Loss 0.7575 Accuracy 0.2657\n",
      "Time taken for 1 epoch: 464.26050996780396 secs\n",
      "\n",
      "Epoch 12 Batch 0 Loss 0.7893 Accuracy 0.2734\n",
      "Epoch 12 Batch 50 Loss 0.7337 Accuracy 0.2677\n",
      "Epoch 12 Batch 100 Loss 0.7353 Accuracy 0.2685\n",
      "Epoch 12 Batch 150 Loss 0.7379 Accuracy 0.2701\n",
      "Epoch 12 Batch 200 Loss 0.7407 Accuracy 0.2699\n",
      "Epoch 12 Batch 250 Loss 0.7369 Accuracy 0.2693\n",
      "Epoch 12 Batch 300 Loss 0.7347 Accuracy 0.2688\n",
      "Epoch 12 Batch 350 Loss 0.7350 Accuracy 0.2690\n",
      "Epoch 12 Batch 400 Loss 0.7356 Accuracy 0.2694\n",
      "Epoch 12 Batch 450 Loss 0.7343 Accuracy 0.2694\n",
      "Epoch 12 Batch 500 Loss 0.7350 Accuracy 0.2695\n",
      "Epoch 12 Batch 550 Loss 0.7358 Accuracy 0.2698\n",
      "Epoch 12 Batch 600 Loss 0.7357 Accuracy 0.2698\n",
      "Epoch 12 Batch 650 Loss 0.7345 Accuracy 0.2695\n",
      "Epoch 12 Batch 700 Loss 0.7345 Accuracy 0.2695\n",
      "Epoch 12 Batch 750 Loss 0.7340 Accuracy 0.2695\n",
      "Epoch 12 Batch 800 Loss 0.7340 Accuracy 0.2695\n",
      "Epoch 12 Batch 850 Loss 0.7343 Accuracy 0.2696\n",
      "Epoch 12 Batch 900 Loss 0.7344 Accuracy 0.2698\n",
      "Epoch 12 Batch 950 Loss 0.7339 Accuracy 0.2699\n",
      "Epoch 12 Batch 1000 Loss 0.7337 Accuracy 0.2699\n",
      "Epoch 12 Batch 1050 Loss 0.7332 Accuracy 0.2701\n",
      "Epoch 12 Batch 1100 Loss 0.7325 Accuracy 0.2701\n",
      "Epoch 12 Batch 1150 Loss 0.7319 Accuracy 0.2700\n",
      "Epoch 12 Batch 1200 Loss 0.7315 Accuracy 0.2702\n",
      "Epoch 12 Batch 1250 Loss 0.7311 Accuracy 0.2702\n",
      "Epoch 12 Batch 1300 Loss 0.7307 Accuracy 0.2702\n",
      "Epoch 12 Batch 1350 Loss 0.7305 Accuracy 0.2703\n",
      "Epoch 12 Batch 1400 Loss 0.7307 Accuracy 0.2704\n",
      "Epoch 12 Batch 1450 Loss 0.7302 Accuracy 0.2703\n",
      "Epoch 12 Batch 1500 Loss 0.7299 Accuracy 0.2703\n",
      "Epoch 12 Loss 0.7297 Accuracy 0.2703\n",
      "Time taken for 1 epoch: 463.8919641971588 secs\n",
      "\n",
      "Epoch 13 Batch 0 Loss 0.7149 Accuracy 0.2684\n",
      "Epoch 13 Batch 50 Loss 0.7111 Accuracy 0.2718\n",
      "Epoch 13 Batch 100 Loss 0.7107 Accuracy 0.2720\n",
      "Epoch 13 Batch 150 Loss 0.7091 Accuracy 0.2725\n",
      "Epoch 13 Batch 200 Loss 0.7112 Accuracy 0.2734\n",
      "Epoch 13 Batch 250 Loss 0.7118 Accuracy 0.2738\n",
      "Epoch 13 Batch 300 Loss 0.7104 Accuracy 0.2734\n",
      "Epoch 13 Batch 350 Loss 0.7107 Accuracy 0.2734\n",
      "Epoch 13 Batch 400 Loss 0.7103 Accuracy 0.2735\n",
      "Epoch 13 Batch 450 Loss 0.7092 Accuracy 0.2731\n",
      "Epoch 13 Batch 500 Loss 0.7089 Accuracy 0.2729\n",
      "Epoch 13 Batch 550 Loss 0.7087 Accuracy 0.2732\n",
      "Epoch 13 Batch 600 Loss 0.7089 Accuracy 0.2732\n",
      "Epoch 13 Batch 650 Loss 0.7087 Accuracy 0.2732\n",
      "Epoch 13 Batch 700 Loss 0.7087 Accuracy 0.2732\n",
      "Epoch 13 Batch 750 Loss 0.7084 Accuracy 0.2732\n",
      "Epoch 13 Batch 800 Loss 0.7078 Accuracy 0.2733\n",
      "Epoch 13 Batch 850 Loss 0.7072 Accuracy 0.2732\n",
      "Epoch 13 Batch 900 Loss 0.7073 Accuracy 0.2733\n",
      "Epoch 13 Batch 950 Loss 0.7073 Accuracy 0.2734\n",
      "Epoch 13 Batch 1000 Loss 0.7063 Accuracy 0.2732\n",
      "Epoch 13 Batch 1050 Loss 0.7064 Accuracy 0.2734\n",
      "Epoch 13 Batch 1100 Loss 0.7060 Accuracy 0.2736\n",
      "Epoch 13 Batch 1150 Loss 0.7056 Accuracy 0.2736\n",
      "Epoch 13 Batch 1200 Loss 0.7050 Accuracy 0.2735\n",
      "Epoch 13 Batch 1250 Loss 0.7048 Accuracy 0.2736\n",
      "Epoch 13 Batch 1300 Loss 0.7049 Accuracy 0.2737\n",
      "Epoch 13 Batch 1350 Loss 0.7046 Accuracy 0.2738\n",
      "Epoch 13 Batch 1400 Loss 0.7047 Accuracy 0.2739\n",
      "Epoch 13 Batch 1450 Loss 0.7041 Accuracy 0.2738\n",
      "Epoch 13 Batch 1500 Loss 0.7040 Accuracy 0.2739\n",
      "Epoch 13 Loss 0.7040 Accuracy 0.2738\n",
      "Time taken for 1 epoch: 462.8948538303375 secs\n",
      "\n",
      "Epoch 14 Batch 0 Loss 0.6744 Accuracy 0.2594\n",
      "Epoch 14 Batch 50 Loss 0.6835 Accuracy 0.2765\n",
      "Epoch 14 Batch 100 Loss 0.6842 Accuracy 0.2765\n",
      "Epoch 14 Batch 150 Loss 0.6841 Accuracy 0.2764\n",
      "Epoch 14 Batch 200 Loss 0.6843 Accuracy 0.2758\n",
      "Epoch 14 Batch 250 Loss 0.6845 Accuracy 0.2762\n",
      "Epoch 14 Batch 300 Loss 0.6845 Accuracy 0.2761\n",
      "Epoch 14 Batch 350 Loss 0.6843 Accuracy 0.2759\n",
      "Epoch 14 Batch 400 Loss 0.6845 Accuracy 0.2763\n",
      "Epoch 14 Batch 450 Loss 0.6857 Accuracy 0.2766\n",
      "Epoch 14 Batch 500 Loss 0.6861 Accuracy 0.2767\n",
      "Epoch 14 Batch 550 Loss 0.6854 Accuracy 0.2764\n",
      "Epoch 14 Batch 600 Loss 0.6853 Accuracy 0.2765\n",
      "Epoch 14 Batch 650 Loss 0.6852 Accuracy 0.2764\n",
      "Epoch 14 Batch 700 Loss 0.6852 Accuracy 0.2764\n",
      "Epoch 14 Batch 750 Loss 0.6845 Accuracy 0.2766\n",
      "Epoch 14 Batch 800 Loss 0.6847 Accuracy 0.2766\n",
      "Epoch 14 Batch 850 Loss 0.6841 Accuracy 0.2767\n",
      "Epoch 14 Batch 900 Loss 0.6844 Accuracy 0.2769\n",
      "Epoch 14 Batch 950 Loss 0.6841 Accuracy 0.2770\n",
      "Epoch 14 Batch 1000 Loss 0.6842 Accuracy 0.2772\n",
      "Epoch 14 Batch 1050 Loss 0.6836 Accuracy 0.2771\n",
      "Epoch 14 Batch 1100 Loss 0.6835 Accuracy 0.2773\n",
      "Epoch 14 Batch 1150 Loss 0.6834 Accuracy 0.2774\n",
      "Epoch 14 Batch 1200 Loss 0.6824 Accuracy 0.2772\n",
      "Epoch 14 Batch 1250 Loss 0.6822 Accuracy 0.2773\n",
      "Epoch 14 Batch 1300 Loss 0.6817 Accuracy 0.2772\n",
      "Epoch 14 Batch 1350 Loss 0.6815 Accuracy 0.2773\n",
      "Epoch 14 Batch 1400 Loss 0.6813 Accuracy 0.2774\n",
      "Epoch 14 Batch 1450 Loss 0.6812 Accuracy 0.2773\n",
      "Epoch 14 Batch 1500 Loss 0.6814 Accuracy 0.2774\n",
      "Epoch 14 Loss 0.6814 Accuracy 0.2774\n",
      "Time taken for 1 epoch: 462.29803109169006 secs\n",
      "\n",
      "Epoch 15 Batch 0 Loss 0.7199 Accuracy 0.2791\n",
      "Epoch 15 Batch 50 Loss 0.6699 Accuracy 0.2828\n",
      "Epoch 15 Batch 100 Loss 0.6602 Accuracy 0.2805\n",
      "Epoch 15 Batch 150 Loss 0.6618 Accuracy 0.2808\n",
      "Epoch 15 Batch 200 Loss 0.6615 Accuracy 0.2807\n",
      "Epoch 15 Batch 250 Loss 0.6632 Accuracy 0.2812\n",
      "Epoch 15 Batch 300 Loss 0.6644 Accuracy 0.2808\n",
      "Epoch 15 Batch 350 Loss 0.6649 Accuracy 0.2805\n",
      "Epoch 15 Batch 400 Loss 0.6635 Accuracy 0.2804\n",
      "Epoch 15 Batch 450 Loss 0.6640 Accuracy 0.2805\n",
      "Epoch 15 Batch 500 Loss 0.6637 Accuracy 0.2803\n",
      "Epoch 15 Batch 550 Loss 0.6632 Accuracy 0.2801\n",
      "Epoch 15 Batch 600 Loss 0.6632 Accuracy 0.2801\n",
      "Epoch 15 Batch 650 Loss 0.6628 Accuracy 0.2799\n",
      "Epoch 15 Batch 700 Loss 0.6629 Accuracy 0.2798\n",
      "Epoch 15 Batch 750 Loss 0.6630 Accuracy 0.2799\n",
      "Epoch 15 Batch 800 Loss 0.6631 Accuracy 0.2800\n",
      "Epoch 15 Batch 850 Loss 0.6622 Accuracy 0.2798\n",
      "Epoch 15 Batch 900 Loss 0.6623 Accuracy 0.2799\n",
      "Epoch 15 Batch 950 Loss 0.6620 Accuracy 0.2799\n",
      "Epoch 15 Batch 1000 Loss 0.6618 Accuracy 0.2800\n",
      "Epoch 15 Batch 1050 Loss 0.6615 Accuracy 0.2801\n",
      "Epoch 15 Batch 1100 Loss 0.6614 Accuracy 0.2803\n",
      "Epoch 15 Batch 1150 Loss 0.6610 Accuracy 0.2803\n",
      "Epoch 15 Batch 1200 Loss 0.6607 Accuracy 0.2803\n",
      "Epoch 15 Batch 1250 Loss 0.6609 Accuracy 0.2804\n",
      "Epoch 15 Batch 1300 Loss 0.6606 Accuracy 0.2804\n",
      "Epoch 15 Batch 1350 Loss 0.6605 Accuracy 0.2805\n",
      "Epoch 15 Batch 1400 Loss 0.6603 Accuracy 0.2805\n",
      "Epoch 15 Batch 1450 Loss 0.6604 Accuracy 0.2806\n",
      "Epoch 15 Batch 1500 Loss 0.6601 Accuracy 0.2806\n",
      "Saving checkpoint for epoch 15 at ./checkpoints/train-2/ckpt-3\n",
      "Epoch 15 Loss 0.6602 Accuracy 0.2806\n",
      "Time taken for 1 epoch: 464.60785365104675 secs\n",
      "\n",
      "Epoch 16 Batch 0 Loss 0.6837 Accuracy 0.2955\n",
      "Epoch 16 Batch 50 Loss 0.6463 Accuracy 0.2820\n",
      "Epoch 16 Batch 100 Loss 0.6480 Accuracy 0.2833\n",
      "Epoch 16 Batch 150 Loss 0.6473 Accuracy 0.2845\n",
      "Epoch 16 Batch 200 Loss 0.6460 Accuracy 0.2838\n",
      "Epoch 16 Batch 250 Loss 0.6450 Accuracy 0.2835\n",
      "Epoch 16 Batch 300 Loss 0.6445 Accuracy 0.2834\n",
      "Epoch 16 Batch 350 Loss 0.6439 Accuracy 0.2829\n",
      "Epoch 16 Batch 400 Loss 0.6448 Accuracy 0.2833\n",
      "Epoch 16 Batch 450 Loss 0.6447 Accuracy 0.2835\n",
      "Epoch 16 Batch 500 Loss 0.6441 Accuracy 0.2832\n",
      "Epoch 16 Batch 550 Loss 0.6437 Accuracy 0.2832\n",
      "Epoch 16 Batch 600 Loss 0.6439 Accuracy 0.2831\n",
      "Epoch 16 Batch 650 Loss 0.6442 Accuracy 0.2831\n",
      "Epoch 16 Batch 700 Loss 0.6440 Accuracy 0.2830\n",
      "Epoch 16 Batch 750 Loss 0.6444 Accuracy 0.2832\n",
      "Epoch 16 Batch 800 Loss 0.6443 Accuracy 0.2831\n",
      "Epoch 16 Batch 850 Loss 0.6441 Accuracy 0.2833\n",
      "Epoch 16 Batch 900 Loss 0.6439 Accuracy 0.2834\n",
      "Epoch 16 Batch 950 Loss 0.6433 Accuracy 0.2834\n",
      "Epoch 16 Batch 1000 Loss 0.6423 Accuracy 0.2833\n",
      "Epoch 16 Batch 1050 Loss 0.6419 Accuracy 0.2833\n",
      "Epoch 16 Batch 1100 Loss 0.6417 Accuracy 0.2834\n",
      "Epoch 16 Batch 1150 Loss 0.6417 Accuracy 0.2834\n",
      "Epoch 16 Batch 1200 Loss 0.6420 Accuracy 0.2835\n",
      "Epoch 16 Batch 1250 Loss 0.6417 Accuracy 0.2835\n",
      "Epoch 16 Batch 1300 Loss 0.6414 Accuracy 0.2836\n",
      "Epoch 16 Batch 1350 Loss 0.6413 Accuracy 0.2836\n",
      "Epoch 16 Batch 1400 Loss 0.6407 Accuracy 0.2836\n",
      "Epoch 16 Batch 1450 Loss 0.6405 Accuracy 0.2835\n",
      "Epoch 16 Batch 1500 Loss 0.6406 Accuracy 0.2836\n",
      "Epoch 16 Loss 0.6407 Accuracy 0.2836\n",
      "Time taken for 1 epoch: 460.3745505809784 secs\n",
      "\n",
      "Epoch 17 Batch 0 Loss 0.6836 Accuracy 0.2930\n",
      "Epoch 17 Batch 50 Loss 0.6292 Accuracy 0.2866\n",
      "Epoch 17 Batch 100 Loss 0.6254 Accuracy 0.2855\n",
      "Epoch 17 Batch 150 Loss 0.6263 Accuracy 0.2860\n",
      "Epoch 17 Batch 200 Loss 0.6282 Accuracy 0.2864\n",
      "Epoch 17 Batch 250 Loss 0.6272 Accuracy 0.2860\n",
      "Epoch 17 Batch 300 Loss 0.6274 Accuracy 0.2859\n",
      "Epoch 17 Batch 350 Loss 0.6277 Accuracy 0.2860\n",
      "Epoch 17 Batch 400 Loss 0.6272 Accuracy 0.2861\n",
      "Epoch 17 Batch 450 Loss 0.6259 Accuracy 0.2855\n",
      "Epoch 17 Batch 500 Loss 0.6261 Accuracy 0.2857\n",
      "Epoch 17 Batch 550 Loss 0.6250 Accuracy 0.2856\n",
      "Epoch 17 Batch 600 Loss 0.6246 Accuracy 0.2857\n",
      "Epoch 17 Batch 650 Loss 0.6245 Accuracy 0.2853\n",
      "Epoch 17 Batch 700 Loss 0.6249 Accuracy 0.2855\n",
      "Epoch 17 Batch 750 Loss 0.6251 Accuracy 0.2855\n",
      "Epoch 17 Batch 800 Loss 0.6247 Accuracy 0.2856\n",
      "Epoch 17 Batch 850 Loss 0.6249 Accuracy 0.2857\n",
      "Epoch 17 Batch 900 Loss 0.6248 Accuracy 0.2858\n",
      "Epoch 17 Batch 950 Loss 0.6248 Accuracy 0.2858\n",
      "Epoch 17 Batch 1000 Loss 0.6245 Accuracy 0.2859\n",
      "Epoch 17 Batch 1050 Loss 0.6243 Accuracy 0.2861\n",
      "Epoch 17 Batch 1100 Loss 0.6237 Accuracy 0.2861\n",
      "Epoch 17 Batch 1150 Loss 0.6237 Accuracy 0.2862\n",
      "Epoch 17 Batch 1200 Loss 0.6231 Accuracy 0.2860\n",
      "Epoch 17 Batch 1250 Loss 0.6229 Accuracy 0.2860\n",
      "Epoch 17 Batch 1300 Loss 0.6228 Accuracy 0.2860\n",
      "Epoch 17 Batch 1350 Loss 0.6229 Accuracy 0.2861\n",
      "Epoch 17 Batch 1400 Loss 0.6227 Accuracy 0.2861\n",
      "Epoch 17 Batch 1450 Loss 0.6224 Accuracy 0.2862\n",
      "Epoch 17 Batch 1500 Loss 0.6228 Accuracy 0.2862\n",
      "Epoch 17 Loss 0.6228 Accuracy 0.2862\n",
      "Time taken for 1 epoch: 469.6315248012543 secs\n",
      "\n",
      "Epoch 18 Batch 0 Loss 0.6382 Accuracy 0.2879\n",
      "Epoch 18 Batch 50 Loss 0.6116 Accuracy 0.2864\n",
      "Epoch 18 Batch 100 Loss 0.6069 Accuracy 0.2871\n",
      "Epoch 18 Batch 150 Loss 0.6064 Accuracy 0.2880\n",
      "Epoch 18 Batch 200 Loss 0.6091 Accuracy 0.2888\n",
      "Epoch 18 Batch 250 Loss 0.6087 Accuracy 0.2893\n",
      "Epoch 18 Batch 300 Loss 0.6095 Accuracy 0.2893\n",
      "Epoch 18 Batch 350 Loss 0.6109 Accuracy 0.2892\n",
      "Epoch 18 Batch 400 Loss 0.6092 Accuracy 0.2887\n",
      "Epoch 18 Batch 450 Loss 0.6098 Accuracy 0.2887\n",
      "Epoch 18 Batch 500 Loss 0.6096 Accuracy 0.2889\n",
      "Epoch 18 Batch 550 Loss 0.6092 Accuracy 0.2887\n",
      "Epoch 18 Batch 600 Loss 0.6089 Accuracy 0.2888\n",
      "Epoch 18 Batch 650 Loss 0.6086 Accuracy 0.2884\n",
      "Epoch 18 Batch 700 Loss 0.6078 Accuracy 0.2881\n",
      "Epoch 18 Batch 750 Loss 0.6087 Accuracy 0.2884\n",
      "Epoch 18 Batch 800 Loss 0.6096 Accuracy 0.2889\n",
      "Epoch 18 Batch 850 Loss 0.6090 Accuracy 0.2889\n",
      "Epoch 18 Batch 900 Loss 0.6091 Accuracy 0.2889\n",
      "Epoch 18 Batch 950 Loss 0.6090 Accuracy 0.2891\n",
      "Epoch 18 Batch 1000 Loss 0.6082 Accuracy 0.2890\n",
      "Epoch 18 Batch 1050 Loss 0.6080 Accuracy 0.2891\n",
      "Epoch 18 Batch 1100 Loss 0.6080 Accuracy 0.2891\n",
      "Epoch 18 Batch 1150 Loss 0.6081 Accuracy 0.2891\n",
      "Epoch 18 Batch 1200 Loss 0.6077 Accuracy 0.2891\n",
      "Epoch 18 Batch 1250 Loss 0.6077 Accuracy 0.2891\n",
      "Epoch 18 Batch 1300 Loss 0.6077 Accuracy 0.2891\n",
      "Epoch 18 Batch 1350 Loss 0.6074 Accuracy 0.2891\n",
      "Epoch 18 Batch 1400 Loss 0.6071 Accuracy 0.2892\n",
      "Epoch 18 Batch 1450 Loss 0.6068 Accuracy 0.2891\n",
      "Epoch 18 Batch 1500 Loss 0.6067 Accuracy 0.2892\n",
      "Epoch 18 Loss 0.6067 Accuracy 0.2891\n",
      "Time taken for 1 epoch: 476.43325090408325 secs\n",
      "\n",
      "Epoch 19 Batch 0 Loss 0.5897 Accuracy 0.3061\n",
      "Epoch 19 Batch 50 Loss 0.5984 Accuracy 0.2912\n",
      "Epoch 19 Batch 100 Loss 0.5942 Accuracy 0.2907\n",
      "Epoch 19 Batch 150 Loss 0.5956 Accuracy 0.2924\n",
      "Epoch 19 Batch 200 Loss 0.5949 Accuracy 0.2918\n",
      "Epoch 19 Batch 250 Loss 0.5948 Accuracy 0.2919\n",
      "Epoch 19 Batch 300 Loss 0.5950 Accuracy 0.2918\n",
      "Epoch 19 Batch 350 Loss 0.5940 Accuracy 0.2919\n",
      "Epoch 19 Batch 400 Loss 0.5942 Accuracy 0.2919\n",
      "Epoch 19 Batch 450 Loss 0.5943 Accuracy 0.2917\n",
      "Epoch 19 Batch 500 Loss 0.5940 Accuracy 0.2915\n",
      "Epoch 19 Batch 550 Loss 0.5945 Accuracy 0.2917\n",
      "Epoch 19 Batch 600 Loss 0.5945 Accuracy 0.2916\n",
      "Epoch 19 Batch 650 Loss 0.5939 Accuracy 0.2914\n",
      "Epoch 19 Batch 700 Loss 0.5934 Accuracy 0.2913\n",
      "Epoch 19 Batch 750 Loss 0.5934 Accuracy 0.2912\n",
      "Epoch 19 Batch 800 Loss 0.5931 Accuracy 0.2912\n",
      "Epoch 19 Batch 850 Loss 0.5932 Accuracy 0.2913\n",
      "Epoch 19 Batch 900 Loss 0.5930 Accuracy 0.2914\n",
      "Epoch 19 Batch 950 Loss 0.5925 Accuracy 0.2913\n",
      "Epoch 19 Batch 1000 Loss 0.5923 Accuracy 0.2914\n",
      "Epoch 19 Batch 1050 Loss 0.5923 Accuracy 0.2916\n",
      "Epoch 19 Batch 1100 Loss 0.5922 Accuracy 0.2917\n",
      "Epoch 19 Batch 1150 Loss 0.5917 Accuracy 0.2917\n",
      "Epoch 19 Batch 1200 Loss 0.5916 Accuracy 0.2917\n",
      "Epoch 19 Batch 1250 Loss 0.5910 Accuracy 0.2916\n",
      "Epoch 19 Batch 1300 Loss 0.5910 Accuracy 0.2916\n",
      "Epoch 19 Batch 1350 Loss 0.5910 Accuracy 0.2918\n",
      "Epoch 19 Batch 1400 Loss 0.5909 Accuracy 0.2918\n",
      "Epoch 19 Batch 1450 Loss 0.5912 Accuracy 0.2919\n",
      "Epoch 19 Batch 1500 Loss 0.5912 Accuracy 0.2917\n",
      "Epoch 19 Loss 0.5912 Accuracy 0.2918\n",
      "Time taken for 1 epoch: 467.1607675552368 secs\n",
      "\n",
      "Epoch 20 Batch 0 Loss 0.5957 Accuracy 0.2930\n",
      "Epoch 20 Batch 50 Loss 0.5789 Accuracy 0.2931\n",
      "Epoch 20 Batch 100 Loss 0.5794 Accuracy 0.2934\n",
      "Epoch 20 Batch 150 Loss 0.5769 Accuracy 0.2935\n",
      "Epoch 20 Batch 200 Loss 0.5791 Accuracy 0.2937\n",
      "Epoch 20 Batch 250 Loss 0.5774 Accuracy 0.2928\n",
      "Epoch 20 Batch 300 Loss 0.5774 Accuracy 0.2926\n",
      "Epoch 20 Batch 350 Loss 0.5769 Accuracy 0.2923\n",
      "Epoch 20 Batch 400 Loss 0.5770 Accuracy 0.2926\n",
      "Epoch 20 Batch 450 Loss 0.5775 Accuracy 0.2929\n",
      "Epoch 20 Batch 500 Loss 0.5783 Accuracy 0.2930\n",
      "Epoch 20 Batch 550 Loss 0.5783 Accuracy 0.2929\n",
      "Epoch 20 Batch 600 Loss 0.5783 Accuracy 0.2927\n",
      "Epoch 20 Batch 650 Loss 0.5793 Accuracy 0.2930\n",
      "Epoch 20 Batch 700 Loss 0.5791 Accuracy 0.2931\n",
      "Epoch 20 Batch 750 Loss 0.5787 Accuracy 0.2929\n",
      "Epoch 20 Batch 800 Loss 0.5788 Accuracy 0.2933\n",
      "Epoch 20 Batch 850 Loss 0.5786 Accuracy 0.2934\n",
      "Epoch 20 Batch 900 Loss 0.5787 Accuracy 0.2935\n",
      "Epoch 20 Batch 950 Loss 0.5787 Accuracy 0.2935\n",
      "Epoch 20 Batch 1000 Loss 0.5789 Accuracy 0.2937\n",
      "Epoch 20 Batch 1050 Loss 0.5783 Accuracy 0.2937\n",
      "Epoch 20 Batch 1100 Loss 0.5782 Accuracy 0.2939\n",
      "Epoch 20 Batch 1150 Loss 0.5778 Accuracy 0.2939\n",
      "Epoch 20 Batch 1200 Loss 0.5775 Accuracy 0.2939\n",
      "Epoch 20 Batch 1250 Loss 0.5777 Accuracy 0.2940\n",
      "Epoch 20 Batch 1300 Loss 0.5774 Accuracy 0.2940\n",
      "Epoch 20 Batch 1350 Loss 0.5777 Accuracy 0.2941\n",
      "Epoch 20 Batch 1400 Loss 0.5775 Accuracy 0.2940\n",
      "Epoch 20 Batch 1450 Loss 0.5774 Accuracy 0.2940\n",
      "Epoch 20 Batch 1500 Loss 0.5774 Accuracy 0.2940\n",
      "Saving checkpoint for epoch 20 at ./checkpoints/train-2/ckpt-4\n",
      "Epoch 20 Loss 0.5774 Accuracy 0.2940\n",
      "Time taken for 1 epoch: 460.56825065612793 secs\n",
      "\n",
      "Epoch 21 Batch 0 Loss 0.6615 Accuracy 0.3183\n",
      "Epoch 21 Batch 50 Loss 0.5671 Accuracy 0.2971\n",
      "Epoch 21 Batch 100 Loss 0.5641 Accuracy 0.2960\n",
      "Epoch 21 Batch 150 Loss 0.5649 Accuracy 0.2962\n",
      "Epoch 21 Batch 200 Loss 0.5662 Accuracy 0.2964\n",
      "Epoch 21 Batch 250 Loss 0.5666 Accuracy 0.2959\n",
      "Epoch 21 Batch 300 Loss 0.5664 Accuracy 0.2960\n",
      "Epoch 21 Batch 350 Loss 0.5674 Accuracy 0.2962\n",
      "Epoch 21 Batch 400 Loss 0.5650 Accuracy 0.2958\n",
      "Epoch 21 Batch 450 Loss 0.5663 Accuracy 0.2962\n",
      "Epoch 21 Batch 500 Loss 0.5668 Accuracy 0.2964\n",
      "Epoch 21 Batch 550 Loss 0.5667 Accuracy 0.2966\n",
      "Epoch 21 Batch 600 Loss 0.5661 Accuracy 0.2964\n",
      "Epoch 21 Batch 650 Loss 0.5663 Accuracy 0.2962\n",
      "Epoch 21 Batch 700 Loss 0.5661 Accuracy 0.2960\n",
      "Epoch 21 Batch 750 Loss 0.5667 Accuracy 0.2960\n",
      "Epoch 21 Batch 800 Loss 0.5661 Accuracy 0.2958\n",
      "Epoch 21 Batch 850 Loss 0.5662 Accuracy 0.2961\n",
      "Epoch 21 Batch 900 Loss 0.5658 Accuracy 0.2961\n",
      "Epoch 21 Batch 950 Loss 0.5658 Accuracy 0.2961\n",
      "Epoch 21 Batch 1000 Loss 0.5655 Accuracy 0.2962\n",
      "Epoch 21 Batch 1050 Loss 0.5651 Accuracy 0.2962\n",
      "Epoch 21 Batch 1100 Loss 0.5651 Accuracy 0.2963\n",
      "Epoch 21 Batch 1150 Loss 0.5650 Accuracy 0.2962\n",
      "Epoch 21 Batch 1200 Loss 0.5648 Accuracy 0.2963\n",
      "Epoch 21 Batch 1250 Loss 0.5648 Accuracy 0.2963\n",
      "Epoch 21 Batch 1300 Loss 0.5646 Accuracy 0.2963\n",
      "Epoch 21 Batch 1350 Loss 0.5649 Accuracy 0.2964\n",
      "Epoch 21 Batch 1400 Loss 0.5646 Accuracy 0.2964\n",
      "Epoch 21 Batch 1450 Loss 0.5644 Accuracy 0.2963\n",
      "Epoch 21 Batch 1500 Loss 0.5644 Accuracy 0.2963\n",
      "Epoch 21 Loss 0.5643 Accuracy 0.2963\n",
      "Time taken for 1 epoch: 463.17497992515564 secs\n",
      "\n",
      "Epoch 22 Batch 0 Loss 0.5480 Accuracy 0.2768\n",
      "Epoch 22 Batch 50 Loss 0.5508 Accuracy 0.2961\n",
      "Epoch 22 Batch 100 Loss 0.5521 Accuracy 0.2978\n",
      "Epoch 22 Batch 150 Loss 0.5522 Accuracy 0.2983\n",
      "Epoch 22 Batch 200 Loss 0.5515 Accuracy 0.2980\n",
      "Epoch 22 Batch 250 Loss 0.5524 Accuracy 0.2985\n",
      "Epoch 22 Batch 300 Loss 0.5510 Accuracy 0.2982\n",
      "Epoch 22 Batch 350 Loss 0.5528 Accuracy 0.2980\n",
      "Epoch 22 Batch 400 Loss 0.5518 Accuracy 0.2976\n",
      "Epoch 22 Batch 450 Loss 0.5520 Accuracy 0.2977\n",
      "Epoch 22 Batch 500 Loss 0.5529 Accuracy 0.2980\n",
      "Epoch 22 Batch 550 Loss 0.5529 Accuracy 0.2975\n",
      "Epoch 22 Batch 600 Loss 0.5524 Accuracy 0.2972\n",
      "Epoch 22 Batch 650 Loss 0.5524 Accuracy 0.2973\n",
      "Epoch 22 Batch 700 Loss 0.5522 Accuracy 0.2974\n",
      "Epoch 22 Batch 750 Loss 0.5520 Accuracy 0.2975\n",
      "Epoch 22 Batch 800 Loss 0.5521 Accuracy 0.2976\n",
      "Epoch 22 Batch 850 Loss 0.5520 Accuracy 0.2976\n",
      "Epoch 22 Batch 900 Loss 0.5520 Accuracy 0.2976\n",
      "Epoch 22 Batch 950 Loss 0.5517 Accuracy 0.2976\n",
      "Epoch 22 Batch 1000 Loss 0.5517 Accuracy 0.2978\n",
      "Epoch 22 Batch 1050 Loss 0.5516 Accuracy 0.2979\n",
      "Epoch 22 Batch 1100 Loss 0.5514 Accuracy 0.2979\n",
      "Epoch 22 Batch 1150 Loss 0.5513 Accuracy 0.2980\n",
      "Epoch 22 Batch 1200 Loss 0.5513 Accuracy 0.2980\n",
      "Epoch 22 Batch 1250 Loss 0.5514 Accuracy 0.2981\n",
      "Epoch 22 Batch 1300 Loss 0.5513 Accuracy 0.2980\n",
      "Epoch 22 Batch 1350 Loss 0.5513 Accuracy 0.2981\n",
      "Epoch 22 Batch 1400 Loss 0.5513 Accuracy 0.2982\n",
      "Epoch 22 Batch 1450 Loss 0.5514 Accuracy 0.2983\n",
      "Epoch 22 Batch 1500 Loss 0.5513 Accuracy 0.2982\n",
      "Epoch 22 Loss 0.5513 Accuracy 0.2982\n",
      "Time taken for 1 epoch: 462.4516794681549 secs\n",
      "\n",
      "Epoch 23 Batch 0 Loss 0.5537 Accuracy 0.2881\n",
      "Epoch 23 Batch 50 Loss 0.5400 Accuracy 0.2980\n",
      "Epoch 23 Batch 100 Loss 0.5393 Accuracy 0.2986\n",
      "Epoch 23 Batch 150 Loss 0.5394 Accuracy 0.2998\n",
      "Epoch 23 Batch 200 Loss 0.5392 Accuracy 0.2995\n",
      "Epoch 23 Batch 250 Loss 0.5407 Accuracy 0.3001\n",
      "Epoch 23 Batch 300 Loss 0.5417 Accuracy 0.2999\n",
      "Epoch 23 Batch 350 Loss 0.5414 Accuracy 0.2996\n",
      "Epoch 23 Batch 400 Loss 0.5417 Accuracy 0.2997\n",
      "Epoch 23 Batch 450 Loss 0.5416 Accuracy 0.2997\n",
      "Epoch 23 Batch 500 Loss 0.5424 Accuracy 0.2998\n",
      "Epoch 23 Batch 550 Loss 0.5422 Accuracy 0.3000\n",
      "Epoch 23 Batch 600 Loss 0.5419 Accuracy 0.3000\n",
      "Epoch 23 Batch 650 Loss 0.5412 Accuracy 0.2998\n",
      "Epoch 23 Batch 700 Loss 0.5413 Accuracy 0.2996\n",
      "Epoch 23 Batch 750 Loss 0.5418 Accuracy 0.3000\n",
      "Epoch 23 Batch 800 Loss 0.5423 Accuracy 0.3000\n",
      "Epoch 23 Batch 850 Loss 0.5420 Accuracy 0.3001\n",
      "Epoch 23 Batch 900 Loss 0.5420 Accuracy 0.3001\n",
      "Epoch 23 Batch 950 Loss 0.5418 Accuracy 0.3002\n",
      "Epoch 23 Batch 1000 Loss 0.5415 Accuracy 0.3003\n",
      "Epoch 23 Batch 1050 Loss 0.5410 Accuracy 0.3002\n",
      "Epoch 23 Batch 1100 Loss 0.5407 Accuracy 0.3003\n",
      "Epoch 23 Batch 1150 Loss 0.5404 Accuracy 0.3003\n",
      "Epoch 23 Batch 1200 Loss 0.5405 Accuracy 0.3004\n",
      "Epoch 23 Batch 1250 Loss 0.5404 Accuracy 0.3004\n",
      "Epoch 23 Batch 1300 Loss 0.5403 Accuracy 0.3004\n",
      "Epoch 23 Batch 1350 Loss 0.5404 Accuracy 0.3004\n",
      "Epoch 23 Batch 1400 Loss 0.5403 Accuracy 0.3005\n",
      "Epoch 23 Batch 1450 Loss 0.5406 Accuracy 0.3005\n",
      "Epoch 23 Batch 1500 Loss 0.5405 Accuracy 0.3005\n",
      "Epoch 23 Loss 0.5405 Accuracy 0.3005\n",
      "Time taken for 1 epoch: 465.03824496269226 secs\n",
      "\n",
      "Epoch 24 Batch 0 Loss 0.5653 Accuracy 0.3111\n",
      "Epoch 24 Batch 50 Loss 0.5399 Accuracy 0.3020\n",
      "Epoch 24 Batch 100 Loss 0.5342 Accuracy 0.3016\n",
      "Epoch 24 Batch 150 Loss 0.5313 Accuracy 0.3019\n",
      "Epoch 24 Batch 200 Loss 0.5313 Accuracy 0.3026\n",
      "Epoch 24 Batch 250 Loss 0.5324 Accuracy 0.3032\n",
      "Epoch 24 Batch 300 Loss 0.5309 Accuracy 0.3025\n",
      "Epoch 24 Batch 350 Loss 0.5308 Accuracy 0.3026\n",
      "Epoch 24 Batch 400 Loss 0.5298 Accuracy 0.3022\n",
      "Epoch 24 Batch 450 Loss 0.5301 Accuracy 0.3024\n",
      "Epoch 24 Batch 500 Loss 0.5300 Accuracy 0.3023\n",
      "Epoch 24 Batch 550 Loss 0.5300 Accuracy 0.3022\n",
      "Epoch 24 Batch 600 Loss 0.5304 Accuracy 0.3022\n",
      "Epoch 24 Batch 650 Loss 0.5295 Accuracy 0.3019\n",
      "Epoch 24 Batch 700 Loss 0.5296 Accuracy 0.3020\n",
      "Epoch 24 Batch 750 Loss 0.5296 Accuracy 0.3019\n",
      "Epoch 24 Batch 800 Loss 0.5295 Accuracy 0.3018\n",
      "Epoch 24 Batch 850 Loss 0.5297 Accuracy 0.3019\n",
      "Epoch 24 Batch 900 Loss 0.5298 Accuracy 0.3021\n",
      "Epoch 24 Batch 950 Loss 0.5298 Accuracy 0.3022\n",
      "Epoch 24 Batch 1000 Loss 0.5298 Accuracy 0.3024\n",
      "Epoch 24 Batch 1050 Loss 0.5295 Accuracy 0.3025\n",
      "Epoch 24 Batch 1100 Loss 0.5293 Accuracy 0.3025\n",
      "Epoch 24 Batch 1150 Loss 0.5290 Accuracy 0.3024\n",
      "Epoch 24 Batch 1200 Loss 0.5290 Accuracy 0.3025\n",
      "Epoch 24 Batch 1250 Loss 0.5288 Accuracy 0.3024\n",
      "Epoch 24 Batch 1300 Loss 0.5283 Accuracy 0.3023\n",
      "Epoch 24 Batch 1350 Loss 0.5285 Accuracy 0.3024\n",
      "Epoch 24 Batch 1400 Loss 0.5287 Accuracy 0.3024\n",
      "Epoch 24 Batch 1450 Loss 0.5286 Accuracy 0.3023\n",
      "Epoch 24 Batch 1500 Loss 0.5290 Accuracy 0.3024\n",
      "Epoch 24 Loss 0.5290 Accuracy 0.3024\n",
      "Time taken for 1 epoch: 463.5315339565277 secs\n",
      "\n",
      "Epoch 25 Batch 0 Loss 0.4898 Accuracy 0.2878\n",
      "Epoch 25 Batch 50 Loss 0.5191 Accuracy 0.3007\n",
      "Epoch 25 Batch 100 Loss 0.5163 Accuracy 0.3024\n",
      "Epoch 25 Batch 150 Loss 0.5171 Accuracy 0.3043\n",
      "Epoch 25 Batch 200 Loss 0.5170 Accuracy 0.3045\n",
      "Epoch 25 Batch 250 Loss 0.5169 Accuracy 0.3043\n",
      "Epoch 25 Batch 300 Loss 0.5172 Accuracy 0.3038\n",
      "Epoch 25 Batch 350 Loss 0.5180 Accuracy 0.3043\n",
      "Epoch 25 Batch 400 Loss 0.5187 Accuracy 0.3045\n",
      "Epoch 25 Batch 450 Loss 0.5190 Accuracy 0.3046\n",
      "Epoch 25 Batch 500 Loss 0.5192 Accuracy 0.3044\n",
      "Epoch 25 Batch 550 Loss 0.5192 Accuracy 0.3042\n",
      "Epoch 25 Batch 600 Loss 0.5195 Accuracy 0.3042\n",
      "Epoch 25 Batch 650 Loss 0.5188 Accuracy 0.3038\n",
      "Epoch 25 Batch 700 Loss 0.5192 Accuracy 0.3039\n",
      "Epoch 25 Batch 750 Loss 0.5191 Accuracy 0.3037\n",
      "Epoch 25 Batch 800 Loss 0.5193 Accuracy 0.3038\n",
      "Epoch 25 Batch 850 Loss 0.5190 Accuracy 0.3038\n",
      "Epoch 25 Batch 900 Loss 0.5188 Accuracy 0.3039\n",
      "Epoch 25 Batch 950 Loss 0.5185 Accuracy 0.3039\n",
      "Epoch 25 Batch 1000 Loss 0.5183 Accuracy 0.3040\n",
      "Epoch 25 Batch 1050 Loss 0.5182 Accuracy 0.3041\n",
      "Epoch 25 Batch 1100 Loss 0.5180 Accuracy 0.3040\n",
      "Epoch 25 Batch 1150 Loss 0.5181 Accuracy 0.3041\n",
      "Epoch 25 Batch 1200 Loss 0.5181 Accuracy 0.3041\n",
      "Epoch 25 Batch 1250 Loss 0.5182 Accuracy 0.3041\n",
      "Epoch 25 Batch 1300 Loss 0.5183 Accuracy 0.3041\n",
      "Epoch 25 Batch 1350 Loss 0.5183 Accuracy 0.3041\n",
      "Epoch 25 Batch 1400 Loss 0.5183 Accuracy 0.3042\n",
      "Epoch 25 Batch 1450 Loss 0.5180 Accuracy 0.3041\n",
      "Epoch 25 Batch 1500 Loss 0.5182 Accuracy 0.3040\n",
      "Saving checkpoint for epoch 25 at ./checkpoints/train-2/ckpt-5\n",
      "Epoch 25 Loss 0.5182 Accuracy 0.3040\n",
      "Time taken for 1 epoch: 461.3777492046356 secs\n",
      "\n",
      "Epoch 26 Batch 0 Loss 0.5186 Accuracy 0.3022\n",
      "Epoch 26 Batch 50 Loss 0.5089 Accuracy 0.3044\n",
      "Epoch 26 Batch 100 Loss 0.5070 Accuracy 0.3053\n",
      "Epoch 26 Batch 150 Loss 0.5073 Accuracy 0.3053\n",
      "Epoch 26 Batch 200 Loss 0.5092 Accuracy 0.3057\n",
      "Epoch 26 Batch 250 Loss 0.5087 Accuracy 0.3052\n",
      "Epoch 26 Batch 300 Loss 0.5075 Accuracy 0.3054\n",
      "Epoch 26 Batch 350 Loss 0.5085 Accuracy 0.3053\n",
      "Epoch 26 Batch 400 Loss 0.5084 Accuracy 0.3053\n",
      "Epoch 26 Batch 450 Loss 0.5080 Accuracy 0.3056\n",
      "Epoch 26 Batch 500 Loss 0.5084 Accuracy 0.3055\n",
      "Epoch 26 Batch 550 Loss 0.5089 Accuracy 0.3057\n",
      "Epoch 26 Batch 900 Loss 0.5092 Accuracy 0.3055\n",
      "Epoch 26 Batch 950 Loss 0.5090 Accuracy 0.3055\n",
      "Epoch 26 Batch 1000 Loss 0.5090 Accuracy 0.3054\n",
      "Epoch 26 Batch 1050 Loss 0.5091 Accuracy 0.3056\n",
      "Epoch 26 Batch 1100 Loss 0.5090 Accuracy 0.3057\n",
      "Epoch 26 Batch 1150 Loss 0.5089 Accuracy 0.3058\n",
      "Epoch 26 Batch 1200 Loss 0.5090 Accuracy 0.3059\n",
      "Epoch 26 Batch 1250 Loss 0.5096 Accuracy 0.3060\n",
      "Epoch 26 Batch 1300 Loss 0.5094 Accuracy 0.3059\n",
      "Epoch 26 Batch 1350 Loss 0.5091 Accuracy 0.3058\n",
      "Epoch 26 Batch 1400 Loss 0.5089 Accuracy 0.3057\n",
      "Epoch 26 Batch 1450 Loss 0.5089 Accuracy 0.3057\n",
      "Epoch 26 Batch 1500 Loss 0.5090 Accuracy 0.3056\n",
      "Epoch 26 Loss 0.5090 Accuracy 0.3057\n",
      "Time taken for 1 epoch: 461.6476957798004 secs\n",
      "\n",
      "Epoch 27 Batch 0 Loss 0.4642 Accuracy 0.2653\n",
      "Epoch 27 Batch 50 Loss 0.5060 Accuracy 0.3074\n",
      "Epoch 27 Batch 100 Loss 0.5011 Accuracy 0.3071\n",
      "Epoch 27 Batch 150 Loss 0.5011 Accuracy 0.3084\n",
      "Epoch 27 Batch 200 Loss 0.5005 Accuracy 0.3088\n",
      "Epoch 27 Batch 250 Loss 0.5000 Accuracy 0.3082\n",
      "Epoch 27 Batch 300 Loss 0.5013 Accuracy 0.3085\n",
      "Epoch 27 Batch 350 Loss 0.5015 Accuracy 0.3080\n",
      "Epoch 27 Batch 400 Loss 0.5013 Accuracy 0.3081\n",
      "Epoch 27 Batch 450 Loss 0.5014 Accuracy 0.3082\n",
      "Epoch 27 Batch 500 Loss 0.5003 Accuracy 0.3079\n",
      "Epoch 27 Batch 550 Loss 0.5009 Accuracy 0.3079\n",
      "Epoch 27 Batch 600 Loss 0.5006 Accuracy 0.3078\n",
      "Epoch 27 Batch 650 Loss 0.5004 Accuracy 0.3077\n",
      "Epoch 27 Batch 700 Loss 0.5007 Accuracy 0.3076\n",
      "Epoch 27 Batch 750 Loss 0.5004 Accuracy 0.3073\n",
      "Epoch 27 Batch 800 Loss 0.5002 Accuracy 0.3072\n",
      "Epoch 27 Batch 850 Loss 0.4999 Accuracy 0.3071\n",
      "Epoch 27 Batch 900 Loss 0.5001 Accuracy 0.3071\n",
      "Epoch 27 Batch 950 Loss 0.5004 Accuracy 0.3073\n",
      "Epoch 27 Batch 1000 Loss 0.5003 Accuracy 0.3075\n",
      "Epoch 27 Batch 1050 Loss 0.4998 Accuracy 0.3075\n",
      "Epoch 27 Batch 1100 Loss 0.4995 Accuracy 0.3074\n",
      "Epoch 27 Batch 1150 Loss 0.4997 Accuracy 0.3076\n",
      "Epoch 27 Batch 1200 Loss 0.4997 Accuracy 0.3077\n",
      "Epoch 27 Batch 1250 Loss 0.4997 Accuracy 0.3076\n",
      "Epoch 27 Batch 1300 Loss 0.4994 Accuracy 0.3075\n",
      "Epoch 27 Batch 1350 Loss 0.4996 Accuracy 0.3075\n",
      "Epoch 27 Batch 1400 Loss 0.4997 Accuracy 0.3076\n",
      "Epoch 27 Batch 1450 Loss 0.4996 Accuracy 0.3075\n",
      "Epoch 27 Batch 1500 Loss 0.4996 Accuracy 0.3076\n",
      "Epoch 27 Loss 0.4996 Accuracy 0.3076\n",
      "Time taken for 1 epoch: 462.11815071105957 secs\n",
      "\n",
      "Epoch 28 Batch 0 Loss 0.5454 Accuracy 0.3247\n",
      "Epoch 28 Batch 50 Loss 0.4947 Accuracy 0.3105\n",
      "Epoch 28 Batch 100 Loss 0.4900 Accuracy 0.3097\n",
      "Epoch 28 Batch 150 Loss 0.4922 Accuracy 0.3104\n",
      "Epoch 28 Batch 200 Loss 0.4931 Accuracy 0.3103\n",
      "Epoch 28 Batch 250 Loss 0.4927 Accuracy 0.3104\n",
      "Epoch 28 Batch 300 Loss 0.4922 Accuracy 0.3101\n",
      "Epoch 28 Batch 350 Loss 0.4915 Accuracy 0.3095\n",
      "Epoch 28 Batch 400 Loss 0.4918 Accuracy 0.3098\n",
      "Epoch 28 Batch 450 Loss 0.4908 Accuracy 0.3095\n",
      "Epoch 28 Batch 500 Loss 0.4914 Accuracy 0.3097\n",
      "Epoch 28 Batch 550 Loss 0.4913 Accuracy 0.3095\n",
      "Epoch 28 Batch 600 Loss 0.4916 Accuracy 0.3094\n",
      "Epoch 28 Batch 650 Loss 0.4915 Accuracy 0.3092\n",
      "Epoch 28 Batch 700 Loss 0.4909 Accuracy 0.3089\n",
      "Epoch 28 Batch 750 Loss 0.4911 Accuracy 0.3089\n",
      "Epoch 28 Batch 800 Loss 0.4915 Accuracy 0.3090\n",
      "Epoch 28 Batch 850 Loss 0.4916 Accuracy 0.3090\n",
      "Epoch 28 Batch 900 Loss 0.4915 Accuracy 0.3090\n",
      "Epoch 28 Batch 950 Loss 0.4917 Accuracy 0.3091\n",
      "Epoch 28 Batch 1000 Loss 0.4910 Accuracy 0.3090\n",
      "Epoch 28 Batch 1050 Loss 0.4909 Accuracy 0.3089\n",
      "Epoch 28 Batch 1100 Loss 0.4909 Accuracy 0.3089\n",
      "Epoch 28 Batch 1150 Loss 0.4909 Accuracy 0.3091\n",
      "Epoch 28 Batch 1200 Loss 0.4908 Accuracy 0.3091\n",
      "Epoch 28 Batch 1250 Loss 0.4909 Accuracy 0.3092\n",
      "Epoch 28 Batch 1300 Loss 0.4910 Accuracy 0.3092\n",
      "Epoch 28 Batch 1350 Loss 0.4907 Accuracy 0.3092\n",
      "Epoch 28 Batch 1400 Loss 0.4907 Accuracy 0.3091\n",
      "Epoch 28 Batch 1450 Loss 0.4909 Accuracy 0.3091\n",
      "Epoch 28 Batch 1500 Loss 0.4910 Accuracy 0.3091\n",
      "Epoch 28 Loss 0.4910 Accuracy 0.3091\n",
      "Time taken for 1 epoch: 465.10869216918945 secs\n",
      "\n",
      "Epoch 29 Batch 0 Loss 0.4664 Accuracy 0.2895\n",
      "Epoch 29 Batch 50 Loss 0.4803 Accuracy 0.3081\n",
      "Epoch 29 Batch 100 Loss 0.4816 Accuracy 0.3106\n",
      "Epoch 29 Batch 150 Loss 0.4800 Accuracy 0.3097\n",
      "Epoch 29 Batch 200 Loss 0.4790 Accuracy 0.3094\n",
      "Epoch 29 Batch 250 Loss 0.4830 Accuracy 0.3104\n",
      "Epoch 29 Batch 300 Loss 0.4828 Accuracy 0.3106\n",
      "Epoch 29 Batch 350 Loss 0.4820 Accuracy 0.3105\n",
      "Epoch 29 Batch 400 Loss 0.4803 Accuracy 0.3098\n",
      "Epoch 29 Batch 450 Loss 0.4807 Accuracy 0.3098\n",
      "Epoch 29 Batch 500 Loss 0.4816 Accuracy 0.3097\n",
      "Epoch 29 Batch 550 Loss 0.4821 Accuracy 0.3101\n",
      "Epoch 29 Batch 600 Loss 0.4822 Accuracy 0.3100\n",
      "Epoch 29 Batch 650 Loss 0.4819 Accuracy 0.3100\n",
      "Epoch 29 Batch 700 Loss 0.4817 Accuracy 0.3100\n",
      "Epoch 29 Batch 750 Loss 0.4816 Accuracy 0.3098\n",
      "Epoch 29 Batch 800 Loss 0.4816 Accuracy 0.3099\n",
      "Epoch 29 Batch 850 Loss 0.4820 Accuracy 0.3101\n",
      "Epoch 29 Batch 900 Loss 0.4820 Accuracy 0.3103\n",
      "Epoch 29 Batch 950 Loss 0.4820 Accuracy 0.3103\n",
      "Epoch 29 Batch 1000 Loss 0.4823 Accuracy 0.3104\n",
      "Epoch 29 Batch 1050 Loss 0.4823 Accuracy 0.3104\n",
      "Epoch 29 Batch 1100 Loss 0.4821 Accuracy 0.3105\n",
      "Epoch 29 Batch 1150 Loss 0.4819 Accuracy 0.3105\n",
      "Epoch 29 Batch 1200 Loss 0.4820 Accuracy 0.3106\n",
      "Epoch 29 Batch 1250 Loss 0.4822 Accuracy 0.3107\n",
      "Epoch 29 Batch 1300 Loss 0.4818 Accuracy 0.3107\n",
      "Epoch 29 Batch 1350 Loss 0.4819 Accuracy 0.3106\n",
      "Epoch 29 Batch 1400 Loss 0.4818 Accuracy 0.3106\n",
      "Epoch 29 Batch 1450 Loss 0.4819 Accuracy 0.3107\n",
      "Epoch 29 Batch 1500 Loss 0.4821 Accuracy 0.3107\n",
      "Epoch 29 Loss 0.4821 Accuracy 0.3107\n",
      "Time taken for 1 epoch: 460.216096162796 secs\n",
      "\n",
      "Epoch 30 Batch 0 Loss 0.4967 Accuracy 0.3294\n",
      "Epoch 30 Batch 50 Loss 0.4727 Accuracy 0.3106\n",
      "Epoch 30 Batch 100 Loss 0.4743 Accuracy 0.3129\n",
      "Epoch 30 Batch 150 Loss 0.4728 Accuracy 0.3130\n",
      "Epoch 30 Batch 200 Loss 0.4721 Accuracy 0.3127\n",
      "Epoch 30 Batch 250 Loss 0.4736 Accuracy 0.3127\n",
      "Epoch 30 Batch 300 Loss 0.4739 Accuracy 0.3128\n",
      "Epoch 30 Batch 350 Loss 0.4745 Accuracy 0.3131\n",
      "Epoch 30 Batch 400 Loss 0.4734 Accuracy 0.3130\n",
      "Epoch 30 Batch 450 Loss 0.4737 Accuracy 0.3126\n",
      "Epoch 30 Batch 500 Loss 0.4735 Accuracy 0.3122\n",
      "Epoch 30 Batch 550 Loss 0.4741 Accuracy 0.3124\n",
      "Epoch 30 Batch 600 Loss 0.4747 Accuracy 0.3123\n",
      "Epoch 30 Batch 650 Loss 0.4750 Accuracy 0.3123\n",
      "Epoch 30 Batch 700 Loss 0.4751 Accuracy 0.3123\n",
      "Epoch 30 Batch 750 Loss 0.4748 Accuracy 0.3120\n",
      "Epoch 30 Batch 800 Loss 0.4752 Accuracy 0.3122\n",
      "Epoch 30 Batch 850 Loss 0.4750 Accuracy 0.3122\n",
      "Epoch 30 Batch 900 Loss 0.4749 Accuracy 0.3123\n",
      "Epoch 30 Batch 950 Loss 0.4746 Accuracy 0.3122\n",
      "Epoch 30 Batch 1000 Loss 0.4744 Accuracy 0.3123\n",
      "Epoch 30 Batch 1050 Loss 0.4740 Accuracy 0.3124\n",
      "Epoch 30 Batch 1100 Loss 0.4738 Accuracy 0.3123\n",
      "Epoch 30 Batch 1150 Loss 0.4738 Accuracy 0.3123\n",
      "Epoch 30 Batch 1200 Loss 0.4737 Accuracy 0.3122\n",
      "Epoch 30 Batch 1250 Loss 0.4741 Accuracy 0.3124\n",
      "Epoch 30 Batch 1300 Loss 0.4737 Accuracy 0.3122\n",
      "Epoch 30 Batch 1350 Loss 0.4738 Accuracy 0.3123\n",
      "Epoch 30 Batch 1400 Loss 0.4737 Accuracy 0.3121\n",
      "Epoch 30 Batch 1450 Loss 0.4738 Accuracy 0.3122\n",
      "Epoch 30 Batch 1500 Loss 0.4739 Accuracy 0.3121\n",
      "Saving checkpoint for epoch 30 at ./checkpoints/train-2/ckpt-6\n",
      "Epoch 30 Loss 0.4738 Accuracy 0.3121\n",
      "Time taken for 1 epoch: 467.8076958656311 secs\n",
      "\n",
      "Epoch 31 Batch 0 Loss 0.4589 Accuracy 0.3283\n",
      "Epoch 31 Batch 50 Loss 0.4722 Accuracy 0.3153\n",
      "Epoch 31 Batch 100 Loss 0.4690 Accuracy 0.3142\n",
      "Epoch 31 Batch 150 Loss 0.4677 Accuracy 0.3140\n",
      "Epoch 31 Batch 200 Loss 0.4679 Accuracy 0.3146\n",
      "Epoch 31 Batch 250 Loss 0.4677 Accuracy 0.3138\n",
      "Epoch 31 Batch 300 Loss 0.4670 Accuracy 0.3138\n",
      "Epoch 31 Batch 350 Loss 0.4675 Accuracy 0.3141\n",
      "Epoch 31 Batch 400 Loss 0.4671 Accuracy 0.3138\n",
      "Epoch 31 Batch 450 Loss 0.4671 Accuracy 0.3137\n",
      "Epoch 31 Batch 500 Loss 0.4666 Accuracy 0.3136\n",
      "Epoch 31 Batch 550 Loss 0.4662 Accuracy 0.3136\n",
      "Epoch 31 Batch 600 Loss 0.4662 Accuracy 0.3137\n",
      "Epoch 31 Batch 650 Loss 0.4664 Accuracy 0.3134\n",
      "Epoch 31 Batch 700 Loss 0.4668 Accuracy 0.3136\n",
      "Epoch 31 Batch 750 Loss 0.4671 Accuracy 0.3137\n",
      "Epoch 31 Batch 800 Loss 0.4673 Accuracy 0.3137\n",
      "Epoch 31 Batch 850 Loss 0.4673 Accuracy 0.3138\n",
      "Epoch 31 Batch 900 Loss 0.4674 Accuracy 0.3139\n",
      "Epoch 31 Batch 950 Loss 0.4674 Accuracy 0.3138\n",
      "Epoch 31 Batch 1000 Loss 0.4673 Accuracy 0.3138\n",
      "Epoch 31 Batch 1050 Loss 0.4675 Accuracy 0.3140\n",
      "Epoch 31 Batch 1100 Loss 0.4671 Accuracy 0.3139\n",
      "Epoch 31 Batch 1150 Loss 0.4673 Accuracy 0.3141\n",
      "Epoch 31 Batch 1200 Loss 0.4673 Accuracy 0.3141\n",
      "Epoch 31 Batch 1250 Loss 0.4674 Accuracy 0.3142\n",
      "Epoch 31 Batch 1300 Loss 0.4673 Accuracy 0.3141\n",
      "Epoch 31 Batch 1350 Loss 0.4672 Accuracy 0.3140\n",
      "Epoch 31 Batch 1400 Loss 0.4670 Accuracy 0.3140\n",
      "Epoch 31 Batch 1450 Loss 0.4669 Accuracy 0.3140\n",
      "Epoch 31 Batch 1500 Loss 0.4669 Accuracy 0.3139\n",
      "Epoch 31 Loss 0.4669 Accuracy 0.3139\n",
      "Time taken for 1 epoch: 475.7173159122467 secs\n",
      "\n",
      "Epoch 32 Batch 0 Loss 0.4324 Accuracy 0.3114\n",
      "Epoch 32 Batch 50 Loss 0.4602 Accuracy 0.3147\n",
      "Epoch 32 Batch 100 Loss 0.4599 Accuracy 0.3144\n",
      "Epoch 32 Batch 150 Loss 0.4565 Accuracy 0.3144\n",
      "Epoch 32 Batch 200 Loss 0.4588 Accuracy 0.3156\n",
      "Epoch 32 Batch 250 Loss 0.4586 Accuracy 0.3158\n",
      "Epoch 32 Batch 300 Loss 0.4584 Accuracy 0.3154\n",
      "Epoch 32 Batch 350 Loss 0.4587 Accuracy 0.3152\n",
      "Epoch 32 Batch 400 Loss 0.4595 Accuracy 0.3152\n",
      "Epoch 32 Batch 450 Loss 0.4597 Accuracy 0.3151\n",
      "Epoch 32 Batch 500 Loss 0.4591 Accuracy 0.3150\n",
      "Epoch 32 Batch 550 Loss 0.4593 Accuracy 0.3150\n",
      "Epoch 32 Batch 600 Loss 0.4591 Accuracy 0.3148\n",
      "Epoch 32 Batch 650 Loss 0.4589 Accuracy 0.3148\n",
      "Epoch 32 Batch 700 Loss 0.4593 Accuracy 0.3149\n",
      "Epoch 32 Batch 750 Loss 0.4593 Accuracy 0.3147\n",
      "Epoch 32 Batch 800 Loss 0.4595 Accuracy 0.3147\n",
      "Epoch 32 Batch 850 Loss 0.4592 Accuracy 0.3148\n",
      "Epoch 32 Batch 900 Loss 0.4591 Accuracy 0.3149\n",
      "Epoch 32 Batch 950 Loss 0.4591 Accuracy 0.3149\n",
      "Epoch 32 Batch 1000 Loss 0.4592 Accuracy 0.3150\n",
      "Epoch 32 Batch 1050 Loss 0.4591 Accuracy 0.3150\n",
      "Epoch 32 Batch 1100 Loss 0.4593 Accuracy 0.3150\n",
      "Epoch 32 Batch 1150 Loss 0.4594 Accuracy 0.3151\n",
      "Epoch 32 Batch 1200 Loss 0.4592 Accuracy 0.3151\n",
      "Epoch 32 Batch 1250 Loss 0.4591 Accuracy 0.3151\n",
      "Epoch 32 Batch 1300 Loss 0.4592 Accuracy 0.3151\n",
      "Epoch 32 Batch 1350 Loss 0.4590 Accuracy 0.3150\n",
      "Epoch 32 Batch 1400 Loss 0.4590 Accuracy 0.3150\n",
      "Epoch 32 Batch 1450 Loss 0.4591 Accuracy 0.3149\n",
      "Epoch 32 Batch 1500 Loss 0.4593 Accuracy 0.3149\n",
      "Epoch 32 Loss 0.4593 Accuracy 0.3149\n",
      "Time taken for 1 epoch: 474.9735896587372 secs\n",
      "\n",
      "Epoch 33 Batch 0 Loss 0.4492 Accuracy 0.3092\n",
      "Epoch 33 Batch 50 Loss 0.4504 Accuracy 0.3142\n",
      "Epoch 33 Batch 100 Loss 0.4512 Accuracy 0.3165\n",
      "Epoch 33 Batch 150 Loss 0.4522 Accuracy 0.3168\n",
      "Epoch 33 Batch 200 Loss 0.4511 Accuracy 0.3166\n",
      "Epoch 33 Batch 250 Loss 0.4524 Accuracy 0.3169\n",
      "Epoch 33 Batch 300 Loss 0.4510 Accuracy 0.3165\n",
      "Epoch 33 Batch 350 Loss 0.4519 Accuracy 0.3168\n",
      "Epoch 33 Batch 400 Loss 0.4503 Accuracy 0.3161\n",
      "Epoch 33 Batch 450 Loss 0.4508 Accuracy 0.3161\n",
      "Epoch 33 Batch 500 Loss 0.4513 Accuracy 0.3163\n",
      "Epoch 33 Batch 550 Loss 0.4519 Accuracy 0.3166\n",
      "Epoch 33 Batch 600 Loss 0.4519 Accuracy 0.3163\n",
      "Epoch 33 Batch 650 Loss 0.4520 Accuracy 0.3163\n",
      "Epoch 33 Batch 700 Loss 0.4520 Accuracy 0.3162\n",
      "Epoch 33 Batch 750 Loss 0.4518 Accuracy 0.3162\n",
      "Epoch 33 Batch 800 Loss 0.4519 Accuracy 0.3163\n",
      "Epoch 33 Batch 850 Loss 0.4519 Accuracy 0.3164\n",
      "Epoch 33 Batch 900 Loss 0.4518 Accuracy 0.3163\n",
      "Epoch 33 Batch 950 Loss 0.4518 Accuracy 0.3163\n",
      "Epoch 33 Batch 1000 Loss 0.4520 Accuracy 0.3165\n",
      "Epoch 33 Batch 1050 Loss 0.4519 Accuracy 0.3165\n",
      "Epoch 33 Batch 1100 Loss 0.4518 Accuracy 0.3164\n",
      "Epoch 33 Batch 1150 Loss 0.4519 Accuracy 0.3165\n",
      "Epoch 33 Batch 1200 Loss 0.4519 Accuracy 0.3164\n",
      "Epoch 33 Batch 1250 Loss 0.4519 Accuracy 0.3164\n",
      "Epoch 33 Batch 1300 Loss 0.4519 Accuracy 0.3164\n",
      "Epoch 33 Batch 1350 Loss 0.4518 Accuracy 0.3164\n",
      "Epoch 33 Batch 1400 Loss 0.4515 Accuracy 0.3163\n",
      "Epoch 33 Batch 1450 Loss 0.4514 Accuracy 0.3162\n",
      "Epoch 33 Batch 1500 Loss 0.4516 Accuracy 0.3162\n",
      "Epoch 33 Loss 0.4516 Accuracy 0.3162\n",
      "Time taken for 1 epoch: 465.5863540172577 secs\n",
      "\n",
      "Epoch 34 Batch 0 Loss 0.4109 Accuracy 0.2907\n",
      "Epoch 34 Batch 50 Loss 0.4479 Accuracy 0.3170\n",
      "Epoch 34 Batch 100 Loss 0.4481 Accuracy 0.3184\n",
      "Epoch 34 Batch 150 Loss 0.4469 Accuracy 0.3193\n",
      "Epoch 34 Batch 200 Loss 0.4471 Accuracy 0.3192\n",
      "Epoch 34 Batch 250 Loss 0.4474 Accuracy 0.3190\n",
      "Epoch 34 Batch 300 Loss 0.4472 Accuracy 0.3188\n",
      "Epoch 34 Batch 350 Loss 0.4466 Accuracy 0.3185\n",
      "Epoch 34 Batch 400 Loss 0.4461 Accuracy 0.3184\n",
      "Epoch 34 Batch 450 Loss 0.4468 Accuracy 0.3187\n",
      "Epoch 34 Batch 500 Loss 0.4460 Accuracy 0.3182\n",
      "Epoch 34 Batch 550 Loss 0.4459 Accuracy 0.3182\n",
      "Epoch 34 Batch 600 Loss 0.4463 Accuracy 0.3183\n",
      "Epoch 34 Batch 650 Loss 0.4464 Accuracy 0.3181\n",
      "Epoch 34 Batch 700 Loss 0.4467 Accuracy 0.3180\n",
      "Epoch 34 Batch 750 Loss 0.4468 Accuracy 0.3180\n",
      "Epoch 34 Batch 800 Loss 0.4463 Accuracy 0.3178\n",
      "Epoch 34 Batch 850 Loss 0.4467 Accuracy 0.3181\n",
      "Epoch 34 Batch 900 Loss 0.4464 Accuracy 0.3180\n",
      "Epoch 34 Batch 950 Loss 0.4462 Accuracy 0.3178\n",
      "Epoch 34 Batch 1000 Loss 0.4462 Accuracy 0.3180\n",
      "Epoch 34 Batch 1050 Loss 0.4460 Accuracy 0.3179\n",
      "Epoch 34 Batch 1100 Loss 0.4459 Accuracy 0.3180\n",
      "Epoch 34 Batch 1150 Loss 0.4459 Accuracy 0.3180\n",
      "Epoch 34 Batch 1200 Loss 0.4458 Accuracy 0.3180\n",
      "Epoch 34 Batch 1250 Loss 0.4458 Accuracy 0.3180\n",
      "Epoch 34 Batch 1300 Loss 0.4457 Accuracy 0.3180\n",
      "Epoch 34 Batch 1350 Loss 0.4456 Accuracy 0.3179\n",
      "Epoch 34 Batch 1400 Loss 0.4455 Accuracy 0.3177\n",
      "Epoch 34 Batch 1450 Loss 0.4454 Accuracy 0.3177\n",
      "Epoch 34 Batch 1500 Loss 0.4456 Accuracy 0.3177\n",
      "Epoch 34 Loss 0.4456 Accuracy 0.3177\n",
      "Time taken for 1 epoch: 465.8581647872925 secs\n",
      "\n",
      "Epoch 35 Batch 0 Loss 0.4307 Accuracy 0.3146\n",
      "Epoch 35 Batch 50 Loss 0.4379 Accuracy 0.3175\n",
      "Epoch 35 Batch 100 Loss 0.4364 Accuracy 0.3192\n",
      "Epoch 35 Batch 150 Loss 0.4373 Accuracy 0.3199\n",
      "Epoch 35 Batch 200 Loss 0.4383 Accuracy 0.3197\n",
      "Epoch 35 Batch 250 Loss 0.4383 Accuracy 0.3199\n",
      "Epoch 35 Batch 300 Loss 0.4386 Accuracy 0.3194\n",
      "Epoch 35 Batch 350 Loss 0.4381 Accuracy 0.3191\n",
      "Epoch 35 Batch 400 Loss 0.4375 Accuracy 0.3188\n",
      "Epoch 35 Batch 450 Loss 0.4383 Accuracy 0.3192\n",
      "Epoch 35 Batch 500 Loss 0.4389 Accuracy 0.3194\n",
      "Epoch 35 Batch 550 Loss 0.4394 Accuracy 0.3195\n",
      "Epoch 35 Batch 600 Loss 0.4392 Accuracy 0.3193\n",
      "Epoch 35 Batch 650 Loss 0.4397 Accuracy 0.3192\n",
      "Epoch 35 Batch 700 Loss 0.4396 Accuracy 0.3193\n",
      "Epoch 35 Batch 750 Loss 0.4394 Accuracy 0.3192\n",
      "Epoch 35 Batch 800 Loss 0.4399 Accuracy 0.3193\n",
      "Epoch 35 Batch 850 Loss 0.4395 Accuracy 0.3192\n",
      "Epoch 35 Batch 900 Loss 0.4398 Accuracy 0.3193\n",
      "Epoch 35 Batch 950 Loss 0.4395 Accuracy 0.3193\n",
      "Epoch 35 Batch 1000 Loss 0.4394 Accuracy 0.3193\n",
      "Epoch 35 Batch 1050 Loss 0.4390 Accuracy 0.3193\n",
      "Epoch 35 Batch 1100 Loss 0.4390 Accuracy 0.3192\n",
      "Epoch 35 Batch 1150 Loss 0.4388 Accuracy 0.3193\n",
      "Epoch 35 Batch 1200 Loss 0.4387 Accuracy 0.3192\n",
      "Epoch 35 Batch 1250 Loss 0.4389 Accuracy 0.3193\n",
      "Epoch 35 Batch 1300 Loss 0.4389 Accuracy 0.3193\n",
      "Epoch 35 Batch 1350 Loss 0.4387 Accuracy 0.3192\n",
      "Epoch 35 Batch 1400 Loss 0.4388 Accuracy 0.3192\n",
      "Epoch 35 Batch 1450 Loss 0.4390 Accuracy 0.3192\n",
      "Epoch 35 Batch 1500 Loss 0.4393 Accuracy 0.3192\n",
      "Saving checkpoint for epoch 35 at ./checkpoints/train-2/ckpt-7\n",
      "Epoch 35 Loss 0.4393 Accuracy 0.3192\n",
      "Time taken for 1 epoch: 466.5848686695099 secs\n",
      "\n",
      "Epoch 36 Batch 0 Loss 0.4525 Accuracy 0.3302\n",
      "Epoch 36 Batch 50 Loss 0.4335 Accuracy 0.3198\n",
      "Epoch 36 Batch 100 Loss 0.4309 Accuracy 0.3196\n"
     ]
    },
    {
     "ename": "KeyboardInterrupt",
     "evalue": "",
     "output_type": "error",
     "traceback": [
      "\u001b[0;31m---------------------------------------------------------------------------\u001b[0m",
      "\u001b[0;31mKeyboardInterrupt\u001b[0m                         Traceback (most recent call last)",
      "\u001b[0;32m<ipython-input-57-0133f04feef8>\u001b[0m in \u001b[0;36m<module>\u001b[0;34m\u001b[0m\n\u001b[1;32m      7\u001b[0m   \u001b[0;31m# inp -> portuguese, tar -> english\u001b[0m\u001b[0;34m\u001b[0m\u001b[0;34m\u001b[0m\u001b[0;34m\u001b[0m\u001b[0m\n\u001b[1;32m      8\u001b[0m   \u001b[0;32mfor\u001b[0m \u001b[0;34m(\u001b[0m\u001b[0mbatch\u001b[0m\u001b[0;34m,\u001b[0m \u001b[0;34m(\u001b[0m\u001b[0minp\u001b[0m\u001b[0;34m,\u001b[0m \u001b[0mtar\u001b[0m\u001b[0;34m)\u001b[0m\u001b[0;34m)\u001b[0m \u001b[0;32min\u001b[0m \u001b[0menumerate\u001b[0m\u001b[0;34m(\u001b[0m\u001b[0mtrain_dataset\u001b[0m\u001b[0;34m)\u001b[0m\u001b[0;34m:\u001b[0m\u001b[0;34m\u001b[0m\u001b[0;34m\u001b[0m\u001b[0m\n\u001b[0;32m----> 9\u001b[0;31m     \u001b[0mtrain_step\u001b[0m\u001b[0;34m(\u001b[0m\u001b[0minp\u001b[0m\u001b[0;34m,\u001b[0m \u001b[0mtar\u001b[0m\u001b[0;34m)\u001b[0m\u001b[0;34m\u001b[0m\u001b[0;34m\u001b[0m\u001b[0m\n\u001b[0m\u001b[1;32m     10\u001b[0m \u001b[0;34m\u001b[0m\u001b[0m\n\u001b[1;32m     11\u001b[0m     \u001b[0;32mif\u001b[0m \u001b[0mbatch\u001b[0m \u001b[0;34m%\u001b[0m \u001b[0;36m50\u001b[0m \u001b[0;34m==\u001b[0m \u001b[0;36m0\u001b[0m\u001b[0;34m:\u001b[0m\u001b[0;34m\u001b[0m\u001b[0;34m\u001b[0m\u001b[0m\n",
      "\u001b[0;32m~/anaconda3/envs/tf_gpu/lib/python3.7/site-packages/tensorflow/python/eager/def_function.py\u001b[0m in \u001b[0;36m__call__\u001b[0;34m(self, *args, **kwds)\u001b[0m\n\u001b[1;32m    577\u001b[0m         \u001b[0mxla_context\u001b[0m\u001b[0;34m.\u001b[0m\u001b[0mExit\u001b[0m\u001b[0;34m(\u001b[0m\u001b[0;34m)\u001b[0m\u001b[0;34m\u001b[0m\u001b[0;34m\u001b[0m\u001b[0m\n\u001b[1;32m    578\u001b[0m     \u001b[0;32melse\u001b[0m\u001b[0;34m:\u001b[0m\u001b[0;34m\u001b[0m\u001b[0;34m\u001b[0m\u001b[0m\n\u001b[0;32m--> 579\u001b[0;31m       \u001b[0mresult\u001b[0m \u001b[0;34m=\u001b[0m \u001b[0mself\u001b[0m\u001b[0;34m.\u001b[0m\u001b[0m_call\u001b[0m\u001b[0;34m(\u001b[0m\u001b[0;34m*\u001b[0m\u001b[0margs\u001b[0m\u001b[0;34m,\u001b[0m \u001b[0;34m**\u001b[0m\u001b[0mkwds\u001b[0m\u001b[0;34m)\u001b[0m\u001b[0;34m\u001b[0m\u001b[0;34m\u001b[0m\u001b[0m\n\u001b[0m\u001b[1;32m    580\u001b[0m \u001b[0;34m\u001b[0m\u001b[0m\n\u001b[1;32m    581\u001b[0m     \u001b[0;32mif\u001b[0m \u001b[0mtracing_count\u001b[0m \u001b[0;34m==\u001b[0m \u001b[0mself\u001b[0m\u001b[0;34m.\u001b[0m\u001b[0m_get_tracing_count\u001b[0m\u001b[0;34m(\u001b[0m\u001b[0;34m)\u001b[0m\u001b[0;34m:\u001b[0m\u001b[0;34m\u001b[0m\u001b[0;34m\u001b[0m\u001b[0m\n",
      "\u001b[0;32m~/anaconda3/envs/tf_gpu/lib/python3.7/site-packages/tensorflow/python/eager/def_function.py\u001b[0m in \u001b[0;36m_call\u001b[0;34m(self, *args, **kwds)\u001b[0m\n\u001b[1;32m    608\u001b[0m       \u001b[0;31m# In this case we have created variables on the first call, so we run the\u001b[0m\u001b[0;34m\u001b[0m\u001b[0;34m\u001b[0m\u001b[0;34m\u001b[0m\u001b[0m\n\u001b[1;32m    609\u001b[0m       \u001b[0;31m# defunned version which is guaranteed to never create variables.\u001b[0m\u001b[0;34m\u001b[0m\u001b[0;34m\u001b[0m\u001b[0;34m\u001b[0m\u001b[0m\n\u001b[0;32m--> 610\u001b[0;31m       \u001b[0;32mreturn\u001b[0m \u001b[0mself\u001b[0m\u001b[0;34m.\u001b[0m\u001b[0m_stateless_fn\u001b[0m\u001b[0;34m(\u001b[0m\u001b[0;34m*\u001b[0m\u001b[0margs\u001b[0m\u001b[0;34m,\u001b[0m \u001b[0;34m**\u001b[0m\u001b[0mkwds\u001b[0m\u001b[0;34m)\u001b[0m  \u001b[0;31m# pylint: disable=not-callable\u001b[0m\u001b[0;34m\u001b[0m\u001b[0;34m\u001b[0m\u001b[0m\n\u001b[0m\u001b[1;32m    611\u001b[0m     \u001b[0;32melif\u001b[0m \u001b[0mself\u001b[0m\u001b[0;34m.\u001b[0m\u001b[0m_stateful_fn\u001b[0m \u001b[0;32mis\u001b[0m \u001b[0;32mnot\u001b[0m \u001b[0;32mNone\u001b[0m\u001b[0;34m:\u001b[0m\u001b[0;34m\u001b[0m\u001b[0;34m\u001b[0m\u001b[0m\n\u001b[1;32m    612\u001b[0m       \u001b[0;31m# Release the lock early so that multiple threads can perform the call\u001b[0m\u001b[0;34m\u001b[0m\u001b[0;34m\u001b[0m\u001b[0;34m\u001b[0m\u001b[0m\n",
      "\u001b[0;32m~/anaconda3/envs/tf_gpu/lib/python3.7/site-packages/tensorflow/python/eager/function.py\u001b[0m in \u001b[0;36m__call__\u001b[0;34m(self, *args, **kwargs)\u001b[0m\n\u001b[1;32m   2418\u001b[0m     \u001b[0;32mwith\u001b[0m \u001b[0mself\u001b[0m\u001b[0;34m.\u001b[0m\u001b[0m_lock\u001b[0m\u001b[0;34m:\u001b[0m\u001b[0;34m\u001b[0m\u001b[0;34m\u001b[0m\u001b[0m\n\u001b[1;32m   2419\u001b[0m       \u001b[0mgraph_function\u001b[0m\u001b[0;34m,\u001b[0m \u001b[0margs\u001b[0m\u001b[0;34m,\u001b[0m \u001b[0mkwargs\u001b[0m \u001b[0;34m=\u001b[0m \u001b[0mself\u001b[0m\u001b[0;34m.\u001b[0m\u001b[0m_maybe_define_function\u001b[0m\u001b[0;34m(\u001b[0m\u001b[0margs\u001b[0m\u001b[0;34m,\u001b[0m \u001b[0mkwargs\u001b[0m\u001b[0;34m)\u001b[0m\u001b[0;34m\u001b[0m\u001b[0;34m\u001b[0m\u001b[0m\n\u001b[0;32m-> 2420\u001b[0;31m     \u001b[0;32mreturn\u001b[0m \u001b[0mgraph_function\u001b[0m\u001b[0;34m.\u001b[0m\u001b[0m_filtered_call\u001b[0m\u001b[0;34m(\u001b[0m\u001b[0margs\u001b[0m\u001b[0;34m,\u001b[0m \u001b[0mkwargs\u001b[0m\u001b[0;34m)\u001b[0m  \u001b[0;31m# pylint: disable=protected-access\u001b[0m\u001b[0;34m\u001b[0m\u001b[0;34m\u001b[0m\u001b[0m\n\u001b[0m\u001b[1;32m   2421\u001b[0m \u001b[0;34m\u001b[0m\u001b[0m\n\u001b[1;32m   2422\u001b[0m   \u001b[0;34m@\u001b[0m\u001b[0mproperty\u001b[0m\u001b[0;34m\u001b[0m\u001b[0;34m\u001b[0m\u001b[0m\n",
      "\u001b[0;32m~/anaconda3/envs/tf_gpu/lib/python3.7/site-packages/tensorflow/python/eager/function.py\u001b[0m in \u001b[0;36m_filtered_call\u001b[0;34m(self, args, kwargs)\u001b[0m\n\u001b[1;32m   1663\u001b[0m          if isinstance(t, (ops.Tensor,\n\u001b[1;32m   1664\u001b[0m                            resource_variable_ops.BaseResourceVariable))),\n\u001b[0;32m-> 1665\u001b[0;31m         self.captured_inputs)\n\u001b[0m\u001b[1;32m   1666\u001b[0m \u001b[0;34m\u001b[0m\u001b[0m\n\u001b[1;32m   1667\u001b[0m   \u001b[0;32mdef\u001b[0m \u001b[0m_call_flat\u001b[0m\u001b[0;34m(\u001b[0m\u001b[0mself\u001b[0m\u001b[0;34m,\u001b[0m \u001b[0margs\u001b[0m\u001b[0;34m,\u001b[0m \u001b[0mcaptured_inputs\u001b[0m\u001b[0;34m,\u001b[0m \u001b[0mcancellation_manager\u001b[0m\u001b[0;34m=\u001b[0m\u001b[0;32mNone\u001b[0m\u001b[0;34m)\u001b[0m\u001b[0;34m:\u001b[0m\u001b[0;34m\u001b[0m\u001b[0;34m\u001b[0m\u001b[0m\n",
      "\u001b[0;32m~/anaconda3/envs/tf_gpu/lib/python3.7/site-packages/tensorflow/python/eager/function.py\u001b[0m in \u001b[0;36m_call_flat\u001b[0;34m(self, args, captured_inputs, cancellation_manager)\u001b[0m\n\u001b[1;32m   1744\u001b[0m       \u001b[0;31m# No tape is watching; skip to running the function.\u001b[0m\u001b[0;34m\u001b[0m\u001b[0;34m\u001b[0m\u001b[0;34m\u001b[0m\u001b[0m\n\u001b[1;32m   1745\u001b[0m       return self._build_call_outputs(self._inference_function.call(\n\u001b[0;32m-> 1746\u001b[0;31m           ctx, args, cancellation_manager=cancellation_manager))\n\u001b[0m\u001b[1;32m   1747\u001b[0m     forward_backward = self._select_forward_and_backward_functions(\n\u001b[1;32m   1748\u001b[0m         \u001b[0margs\u001b[0m\u001b[0;34m,\u001b[0m\u001b[0;34m\u001b[0m\u001b[0;34m\u001b[0m\u001b[0m\n",
      "\u001b[0;32m~/anaconda3/envs/tf_gpu/lib/python3.7/site-packages/tensorflow/python/eager/function.py\u001b[0m in \u001b[0;36mcall\u001b[0;34m(self, ctx, args, cancellation_manager)\u001b[0m\n\u001b[1;32m    596\u001b[0m               \u001b[0minputs\u001b[0m\u001b[0;34m=\u001b[0m\u001b[0margs\u001b[0m\u001b[0;34m,\u001b[0m\u001b[0;34m\u001b[0m\u001b[0;34m\u001b[0m\u001b[0m\n\u001b[1;32m    597\u001b[0m               \u001b[0mattrs\u001b[0m\u001b[0;34m=\u001b[0m\u001b[0mattrs\u001b[0m\u001b[0;34m,\u001b[0m\u001b[0;34m\u001b[0m\u001b[0;34m\u001b[0m\u001b[0m\n\u001b[0;32m--> 598\u001b[0;31m               ctx=ctx)\n\u001b[0m\u001b[1;32m    599\u001b[0m         \u001b[0;32melse\u001b[0m\u001b[0;34m:\u001b[0m\u001b[0;34m\u001b[0m\u001b[0;34m\u001b[0m\u001b[0m\n\u001b[1;32m    600\u001b[0m           outputs = execute.execute_with_cancellation(\n",
      "\u001b[0;32m~/anaconda3/envs/tf_gpu/lib/python3.7/site-packages/tensorflow/python/eager/execute.py\u001b[0m in \u001b[0;36mquick_execute\u001b[0;34m(op_name, num_outputs, inputs, attrs, ctx, name)\u001b[0m\n\u001b[1;32m     58\u001b[0m     \u001b[0mctx\u001b[0m\u001b[0;34m.\u001b[0m\u001b[0mensure_initialized\u001b[0m\u001b[0;34m(\u001b[0m\u001b[0;34m)\u001b[0m\u001b[0;34m\u001b[0m\u001b[0;34m\u001b[0m\u001b[0m\n\u001b[1;32m     59\u001b[0m     tensors = pywrap_tfe.TFE_Py_Execute(ctx._handle, device_name, op_name,\n\u001b[0;32m---> 60\u001b[0;31m                                         inputs, attrs, num_outputs)\n\u001b[0m\u001b[1;32m     61\u001b[0m   \u001b[0;32mexcept\u001b[0m \u001b[0mcore\u001b[0m\u001b[0;34m.\u001b[0m\u001b[0m_NotOkStatusException\u001b[0m \u001b[0;32mas\u001b[0m \u001b[0me\u001b[0m\u001b[0;34m:\u001b[0m\u001b[0;34m\u001b[0m\u001b[0;34m\u001b[0m\u001b[0m\n\u001b[1;32m     62\u001b[0m     \u001b[0;32mif\u001b[0m \u001b[0mname\u001b[0m \u001b[0;32mis\u001b[0m \u001b[0;32mnot\u001b[0m \u001b[0;32mNone\u001b[0m\u001b[0;34m:\u001b[0m\u001b[0;34m\u001b[0m\u001b[0;34m\u001b[0m\u001b[0m\n",
      "\u001b[0;31mKeyboardInterrupt\u001b[0m: "
     ]
    }
   ],
   "source": [
    "for epoch in range(EPOCHS):\n",
    "  start = time.time()\n",
    "  \n",
    "  train_loss.reset_states()\n",
    "  train_accuracy.reset_states()\n",
    "  \n",
    "  # inp -> portuguese, tar -> english\n",
    "  for (batch, (inp, tar)) in enumerate(train_dataset):\n",
    "    train_step(inp, tar)\n",
    "    \n",
    "    if batch % 50 == 0:\n",
    "      print ('Epoch {} Batch {} Loss {:.4f} Accuracy {:.4f}'.format(\n",
    "          epoch + 1, batch, train_loss.result(), train_accuracy.result()))\n",
    "      \n",
    "  if (epoch + 1) % 5 == 0:\n",
    "    ckpt_save_path = ckpt_manager.save()\n",
    "    print ('Saving checkpoint for epoch {} at {}'.format(epoch+1,\n",
    "                                                         ckpt_save_path))\n",
    "    \n",
    "  print ('Epoch {} Loss {:.4f} Accuracy {:.4f}'.format(epoch + 1, \n",
    "                                                train_loss.result(), \n",
    "                                                train_accuracy.result()))\n",
    "\n",
    "  print ('Time taken for 1 epoch: {} secs\\n'.format(time.time() - start))"
   ]
  },
  {
   "cell_type": "code",
   "execution_count": null,
   "metadata": {},
   "outputs": [],
   "source": []
  },
  {
   "cell_type": "markdown",
   "metadata": {
    "colab_type": "text",
    "id": "y6APsFrgImLW"
   },
   "source": [
    "The following steps are used for evaluation:\n",
    "\n",
    "* Encode the input sentence using the Portuguese tokenizer (`tokenizer_pt`). Moreover, add the start and end token so the input is equivalent to what the model is trained with. This is the encoder input.\n",
    "* The decoder input is the `start token == tokenizer_en.vocab_size`.\n",
    "* Calculate the padding masks and the look ahead masks.\n",
    "* The `decoder` then outputs the predictions by looking at the `encoder output` and its own output (self-attention).\n",
    "* Select the last word and calculate the argmax of that.\n",
    "* Concatentate the predicted word to the decoder input as pass it to the decoder.\n",
    "* In this approach, the decoder predicts the next word based on the previous words it predicted.\n",
    "\n",
    "Note: The model used here has less capacity to keep the example relatively faster so the predictions maybe less right. To reproduce the results in the paper, use the entire dataset and base transformer model or transformer XL, by changing the hyperparameters above."
   ]
  },
  {
   "cell_type": "code",
   "execution_count": 59,
   "metadata": {
    "colab": {},
    "colab_type": "code",
    "id": "5buvMlnvyrFm"
   },
   "outputs": [],
   "source": [
    "def evaluate(inp_sentence):\n",
    "  start_token = [tokenizer_ru.vocab_size]\n",
    "  end_token = [tokenizer_ru.vocab_size + 1]\n",
    "  \n",
    "  # inp sentence is portuguese, hence adding the start and end token\n",
    "  inp_sentence = start_token + tokenizer_ru.encode(inp_sentence) + end_token\n",
    "  encoder_input = tf.expand_dims(inp_sentence, 0)\n",
    "  \n",
    "  # as the target is english, the first word to the transformer should be the\n",
    "  # english start token.\n",
    "  decoder_input = [tokenizer_en.vocab_size]\n",
    "  output = tf.expand_dims(decoder_input, 0)\n",
    "    \n",
    "  for i in range(MAX_LENGTH):\n",
    "    enc_padding_mask, combined_mask, dec_padding_mask = create_masks(\n",
    "        encoder_input, output)\n",
    "  \n",
    "    # predictions.shape == (batch_size, seq_len, vocab_size)\n",
    "    predictions, attention_weights = transformer(encoder_input, \n",
    "                                                 output,\n",
    "                                                 False,\n",
    "                                                 enc_padding_mask,\n",
    "                                                 combined_mask,\n",
    "                                                 dec_padding_mask)\n",
    "    \n",
    "    # select the last word from the seq_len dimension\n",
    "    predictions = predictions[: ,-1:, :]  # (batch_size, 1, vocab_size)\n",
    "\n",
    "    predicted_id = tf.cast(tf.argmax(predictions, axis=-1), tf.int32)\n",
    "    \n",
    "    # return the result if the predicted_id is equal to the end token\n",
    "    if predicted_id == tokenizer_en.vocab_size+1:\n",
    "      return tf.squeeze(output, axis=0), attention_weights\n",
    "    \n",
    "    # concatentate the predicted_id to the output which is given to the decoder\n",
    "    # as its input.\n",
    "    output = tf.concat([output, predicted_id], axis=-1)\n",
    "\n",
    "  return tf.squeeze(output, axis=0), attention_weights"
   ]
  },
  {
   "cell_type": "code",
   "execution_count": 60,
   "metadata": {
    "colab": {},
    "colab_type": "code",
    "id": "CN-BV43FMBej"
   },
   "outputs": [],
   "source": [
    "def plot_attention_weights(attention, sentence, result, layer):\n",
    "  fig = plt.figure(figsize=(16, 8))\n",
    "  \n",
    "  sentence = tokenizer_ru.encode(sentence)\n",
    "  \n",
    "  attention = tf.squeeze(attention[layer], axis=0)\n",
    "  \n",
    "  for head in range(attention.shape[0]):\n",
    "    ax = fig.add_subplot(2, 4, head+1)\n",
    "    \n",
    "    # plot the attention weights\n",
    "    ax.matshow(attention[head][:-1, :], cmap='viridis')\n",
    "\n",
    "    fontdict = {'fontsize': 10}\n",
    "    \n",
    "    ax.set_xticks(range(len(sentence)+2))\n",
    "    ax.set_yticks(range(len(result)))\n",
    "    \n",
    "    ax.set_ylim(len(result)-1.5, -0.5)\n",
    "        \n",
    "    ax.set_xticklabels(\n",
    "        ['<start>']+[tokenizer_ru.decode([i]) for i in sentence]+['<end>'], \n",
    "        fontdict=fontdict, rotation=90)\n",
    "    \n",
    "    ax.set_yticklabels([tokenizer_en.decode([i]) for i in result \n",
    "                        if i < tokenizer_en.vocab_size], \n",
    "                       fontdict=fontdict)\n",
    "    \n",
    "    ax.set_xlabel('Head {}'.format(head+1))\n",
    "  \n",
    "  plt.tight_layout()\n",
    "  plt.show()"
   ]
  },
  {
   "cell_type": "code",
   "execution_count": 61,
   "metadata": {},
   "outputs": [],
   "source": [
    "def test(test_dataset):\n",
    "    test_accuracy.reset_states()\n",
    "    acc = 0\n",
    "    counter = 0\n",
    "    for ru, en in test_dataset:\n",
    "        test_step(ru, en)\n",
    "#         break\n",
    "        counter += 1\n",
    "        \n",
    "    acc = test_accuracy.result()\n",
    "    acc /= counter\n",
    "    \n",
    "    return acc"
   ]
  },
  {
   "cell_type": "code",
   "execution_count": 159,
   "metadata": {},
   "outputs": [],
   "source": [
    "status = ckpt.restore(ckpt_manager.latest_checkpoint)\n",
    "transformer.save_weights('best-model')"
   ]
  },
  {
   "cell_type": "code",
   "execution_count": 62,
   "metadata": {},
   "outputs": [
    {
     "data": {
      "text/plain": [
       "<tensorflow.python.training.tracking.util.CheckpointLoadStatus at 0x7fadfb5e79d0>"
      ]
     },
     "execution_count": 62,
     "metadata": {},
     "output_type": "execute_result"
    }
   ],
   "source": [
    "transformer.load_weights('best-model')"
   ]
  },
  {
   "cell_type": "code",
   "execution_count": 162,
   "metadata": {
    "scrolled": true
   },
   "outputs": [],
   "source": [
    "val_acc = test(val_dataset)"
   ]
  },
  {
   "cell_type": "code",
   "execution_count": 163,
   "metadata": {},
   "outputs": [],
   "source": [
    "test_acc = test(test_dataset)"
   ]
  },
  {
   "cell_type": "code",
   "execution_count": 63,
   "metadata": {
    "colab": {},
    "colab_type": "code",
    "id": "lU2_yG_vBGza"
   },
   "outputs": [],
   "source": [
    "def translate(sentence, plot=''):\n",
    "  result, attention_weights = evaluate(sentence)\n",
    "  \n",
    "  predicted_sentence = tokenizer_en.decode([i for i in result \n",
    "                                            if i < tokenizer_en.vocab_size])  \n",
    "\n",
    "  print('Input: {}'.format(sentence))\n",
    "  print('Predicted translation: {}'.format(predicted_sentence))\n",
    "  \n",
    "  if plot:\n",
    "    plot_attention_weights(attention_weights, sentence, result, plot)"
   ]
  },
  {
   "cell_type": "code",
   "execution_count": 64,
   "metadata": {},
   "outputs": [],
   "source": [
    "def translate_sentence(sentence, plot=''):\n",
    "  result, attention_weights = evaluate(sentence)\n",
    "  \n",
    "  predicted_sentence = tokenizer_en.decode([i for i in result \n",
    "                                            if i < tokenizer_en.vocab_size])  \n",
    "\n",
    "  return predicted_sentence\n"
   ]
  },
  {
   "cell_type": "code",
   "execution_count": 65,
   "metadata": {
    "colab": {},
    "colab_type": "code",
    "id": "YsxrAlvFG8SZ"
   },
   "outputs": [
    {
     "name": "stdout",
     "output_type": "stream",
     "text": [
      "Input: это проблема которую мы должны решить .\n",
      "Predicted translation: that 's the problem we have to solve .\n",
      "Real translation: this is a problem we have to solve .\n"
     ]
    }
   ],
   "source": [
    "translate(\"это проблема которую мы должны решить .\")\n",
    "print (\"Real translation: this is a problem we have to solve .\")"
   ]
  },
  {
   "cell_type": "code",
   "execution_count": 63,
   "metadata": {
    "colab": {},
    "colab_type": "code",
    "id": "7EH5y_aqI4t1"
   },
   "outputs": [
    {
     "name": "stdout",
     "output_type": "stream",
     "text": [
      "Input: и соседские дома тоже слышали об этой идее .\n",
      "Predicted translation: and the neighborhood home was also heard about this idea .\n",
      "Real translation: and my neighboring homes heard about this idea .\n"
     ]
    }
   ],
   "source": [
    "translate(\"и соседские дома тоже слышали об этой идее .\")\n",
    "print (\"Real translation: and my neighboring homes heard about this idea .\")"
   ]
  },
  {
   "cell_type": "code",
   "execution_count": 64,
   "metadata": {
    "colab": {},
    "colab_type": "code",
    "id": "J-hVCTSUMlkb"
   },
   "outputs": [
    {
     "name": "stdout",
     "output_type": "stream",
     "text": [
      "Input: я очень быстро поделюсь с вами некоторыми историями о невероятных вещах которые случились .\n",
      "Predicted translation: i 'm very quick to share with you some stories about the things that have seen here .\n",
      "Real translation: so i 'll just share with you some stories very quickly of some magical things that have happened .\n"
     ]
    }
   ],
   "source": [
    "translate(\"я очень быстро поделюсь с вами некоторыми историями о невероятных вещах которые случились .\")\n",
    "print (\"Real translation: so i 'll just share with you some stories very quickly of some magical things that have happened .\")"
   ]
  },
  {
   "cell_type": "markdown",
   "metadata": {
    "colab_type": "text",
    "id": "_1MxkSZvz0jX"
   },
   "source": [
    "You can pass different layers and attention blocks of the decoder to the `plot` parameter."
   ]
  },
  {
   "cell_type": "code",
   "execution_count": 65,
   "metadata": {
    "colab": {},
    "colab_type": "code",
    "id": "t-kFyiOLH0xg"
   },
   "outputs": [
    {
     "name": "stdout",
     "output_type": "stream",
     "text": [
      "Input: это первая книга которую я когда-либо читал .\n",
      "Predicted translation: this is the first book i have ever read .\n"
     ]
    },
    {
     "data": {
      "image/png": "[encoded data removed]",
      "text/plain": [
       "<Figure size 1152x576 with 8 Axes>"
      ]
     },
     "metadata": {
      "needs_background": "light"
     },
     "output_type": "display_data"
    },
    {
     "name": "stdout",
     "output_type": "stream",
     "text": [
      "Real translation: this is the first book i've ever done.\n"
     ]
    }
   ],
   "source": [
    "translate(\"это первая книга которую я когда-либо читал .\", plot='decoder_layer4_block2')\n",
    "print (\"Real translation: this is the first book i've ever done.\")"
   ]
  },
  {
   "cell_type": "markdown",
   "metadata": {
    "colab_type": "text",
    "id": "RqQ1fIsLwkGE"
   },
   "source": [
    "## Summary\n",
    "\n",
    "In this tutorial, you learned about positional encoding, multi-head attention, the importance of masking and how to create a transformer.\n",
    "\n",
    "Try using a different dataset to train the transformer. You can also create the base transformer or transformer XL by changing the hyperparameters above. You can also use the layers defined here to create [BERT](https://arxiv.org/abs/1810.04805) and train state of the art models. Futhermore, you can implement beam search to get better predictions."
   ]
  },
  {
   "cell_type": "code",
   "execution_count": 165,
   "metadata": {},
   "outputs": [],
   "source": [
    "test_sentences = None\n",
    "\n",
    "with open('test.ru.txt', 'r') as f:\n",
    "    test_sentences = f.read().split('\\n')"
   ]
  },
  {
   "cell_type": "code",
   "execution_count": 176,
   "metadata": {},
   "outputs": [
    {
     "name": "stdout",
     "output_type": "stream",
     "text": [
      "Input: 8. С учетом изложенного выше Япония хотела бы предложить следующие элементы заключительных документов обзорной конференции 2015 года для дальнейшего обсуждения государствами-участниками.\n",
      "Predicted translation: 8. the winning man to tell the speaker above the foreplayful , wanted to offer the next components of the final documents to the 2015 conference of 2015 to later debate the inclusion of the election .\n",
      "---\n",
      "Input: 5. Вопервых, следует обеспечить более высокую доступность ядерной науки и техники в интересах как можно большего числа людей, особенно в развивающихся странах.\n",
      "Predicted translation: five is the operating room available to provide higher access to nuclear science and businesses , and not only in more fantastic countries , especially in developing countries .\n",
      "---\n",
      "Input: Ядерные технологии применялись для повышения эффективности работ по внесению удобрений, водопользованию, биологической азотофиксации, улучшению сельскохозяйственных культур и пород скота, борьбе с вредителями и болезнями и для обеспечения контроля за качеством продовольственных товаров.\n",
      "Predicted translation: the chirp technologies used to improve our fertilizer practices by generating bionics , tag and improve agricultural agricultural productivity and peak agricultural output for pests.com .\n",
      "---\n",
      "Input: В. Помощь в проведении выборов\n",
      "Predicted translation: we stand around for the inclusion and we should put our elections .\n",
      "---\n",
      "Input: 21. подчеркивает критическую значимость регионального подхода к предотвращению конфликтов, особенно в отношении таких трансграничных вопросов, как транснациональная организованная преступность, программы разоружения, демобилизации, репатриации, расселения и реинтеграции, предотвращение незаконной эксплуатации природных ресурсов и нелегального бизнеса на дорогостоящих сырьевых товарах и незаконная торговля стрелковым оружием и легкими вооружениями во всех ее аспектах, и подчеркивает при этом центральную роль Африканского союза и субрегиональных организаций в работе над этими вопросами;\n",
      "Predicted translation: 21. conversations across borders are decoding across borders of civil society and primary infrastructure trade-off by innovation as trans-performers of inclusive drug programs by rebuilding reform .\n",
      "---\n",
      "Input: 4. Главными движущими силами благого управления должны быть уважение закона, соблюдение принципов диалога и сотрудничества, защита демократии и поощрение прав человека.\n",
      "Predicted translation: the fourth common guideline of good government should be respectful , accountability to the dialogue and protection , and reward of human rights .\n",
      "---\n",
      "Input: 5. Исходя из этой убежденности, я хотел бы довести до сведения национальной и международной общественности нижеследующее:\n",
      "Predicted translation: 5.com appreciate the belief in that argument , and i want to get the focus to the national and the international public health .\n",
      "---\n",
      "Input: Пункт 15 повестки дня*\n",
      "Predicted translation: a 15-by-day board board board meeting .\n",
      "---\n",
      "Input: Заместители Председателя: Ангола и Испания\n",
      "Predicted translation: the land-by-step response was a falafel : a misleading , and a buffer seat from the drawer .\n",
      "---\n",
      "Input: 7. мы приветствуем усилия, предпринимаемые странами и заинтересованными сторонами в целях содействия обеспечению неистощительного использования всех видов лесов, в том числе роль коллективных действий коренных народов и местных общин и общин, применяющих неистощительные методы ведения лесного хозяйства;\n",
      "Predicted translation: 7. we welcome the efforts of state countries , and interested parties and they are interested in conservation , and they are also making it more beautiful , accessible communities and community communities that are also making it community and communities that are communities and communities that they are \n",
      "---\n"
     ]
    }
   ],
   "source": [
    "for s in test_sentences[:10]:\n",
    "    translate(s)\n",
    "    print('---')"
   ]
  },
  {
   "cell_type": "code",
   "execution_count": 173,
   "metadata": {},
   "outputs": [],
   "source": [
    "translated = list(map(translate_sentence, test_sentences))"
   ]
  },
  {
   "cell_type": "code",
   "execution_count": 175,
   "metadata": {},
   "outputs": [
    {
     "name": "stdout",
     "output_type": "stream",
     "text": [
      "8. the winning man to tell the speaker above the foreplayful , wanted to offer the next components of the final documents to the 2015 conference of 2015 to later debate the inclusion of the election .\n",
      "---\n",
      "five is the operating room available to provide higher access to nuclear science and businesses , and not only in more fantastic countries , especially in developing countries .\n",
      "---\n",
      "the chirp technologies used to improve our fertilizer practices by generating bionics , tag and improve agricultural agricultural productivity and peak agricultural output for pests.com .\n",
      "---\n",
      "we stand around for the inclusion and we should put our elections .\n",
      "---\n",
      "21. conversations across borders are decoding across borders of civil society and primary infrastructure trade-off by innovation as trans-performers of inclusive drug programs by rebuilding reform .\n",
      "---\n",
      "the fourth common guideline of good government should be respectful , accountability to the dialogue and protection , and reward of human rights .\n",
      "---\n",
      "5.com appreciate the belief in that argument , and i want to get the focus to the national and the international public health .\n",
      "---\n",
      "a 15-by-day board board board meeting .\n",
      "---\n",
      "the land-by-step response was a falafel : a misleading , and a buffer seat from the drawer .\n",
      "---\n",
      "7. we welcome the efforts of state countries , and interested parties and they are interested in conservation , and they are also making it more beautiful , accessible communities and community communities that are also making it community and communities that are communities and communities that they are \n",
      "---\n"
     ]
    }
   ],
   "source": [
    "for s in range(10):\n",
    "    print(translated[s])\n",
    "    print('---')"
   ]
  },
  {
   "cell_type": "code",
   "execution_count": 177,
   "metadata": {},
   "outputs": [],
   "source": [
    "with open('test.en.txt', 'w') as g:\n",
    "    for s in translated:\n",
    "        g.write(s)\n",
    "        g.write('\\n')"
   ]
  },
  {
   "cell_type": "code",
   "execution_count": 189,
   "metadata": {},
   "outputs": [],
   "source": [
    "import datetime"
   ]
  },
  {
   "cell_type": "code",
   "execution_count": 1,
   "metadata": {},
   "outputs": [
    {
     "ename": "NameError",
     "evalue": "name 'datetime' is not defined",
     "output_type": "error",
     "traceback": [
      "\u001b[0;31m---------------------------------------------------------------------------\u001b[0m",
      "\u001b[0;31mNameError\u001b[0m                                 Traceback (most recent call last)",
      "\u001b[0;32m<ipython-input-1-cba1da188793>\u001b[0m in \u001b[0;36m<module>\u001b[0;34m\u001b[0m\n\u001b[0;32m----> 1\u001b[0;31m \u001b[0mstr\u001b[0m\u001b[0;34m(\u001b[0m\u001b[0mdatetime\u001b[0m\u001b[0;34m.\u001b[0m\u001b[0mdatetime\u001b[0m\u001b[0;34m.\u001b[0m\u001b[0mnow\u001b[0m\u001b[0;34m(\u001b[0m\u001b[0;34m)\u001b[0m\u001b[0;34m)\u001b[0m\u001b[0;34m\u001b[0m\u001b[0;34m\u001b[0m\u001b[0m\n\u001b[0m",
      "\u001b[0;31mNameError\u001b[0m: name 'datetime' is not defined"
     ]
    }
   ],
   "source": [
    "str(datetime.datetime.now())"
   ]
  },
  {
   "cell_type": "code",
   "execution_count": 68,
   "metadata": {},
   "outputs": [],
   "source": [
    "outfile = open('eval-en-100.txt', 'w')\n",
    "\n",
    "\n",
    "with open('eval-ru-100.txt') as g:\n",
    "    for idx, line in enumerate(g):\n",
    "        entry = line[:-1]\n",
    "        en = translate_sentence(entry)\n",
    "        outfile.write(en + '\\n')\n",
    "        if (idx + 1) % 500 == 0:\n",
    "            print(f'{idx} lines passed, {str(datetime.datetime.now())}')\n",
    "        \n",
    "outfile.close()"
   ]
  },
  {
   "cell_type": "code",
   "execution_count": null,
   "metadata": {},
   "outputs": [],
   "source": []
  }
 ],
 "metadata": {
  "accelerator": "GPU",
  "colab": {
   "collapsed_sections": [],
   "name": "Copy of transformer.ipynb",
   "private_outputs": true,
   "provenance": [],
   "toc_visible": true
  },
  "kernelspec": {
   "display_name": "Python 3",
   "language": "python",
   "name": "python3"
  },
  "language_info": {
   "codemirror_mode": {
    "name": "ipython",
    "version": 3
   },
   "file_extension": ".py",
   "mimetype": "text/x-python",
   "name": "python",
   "nbconvert_exporter": "python",
   "pygments_lexer": "ipython3",
   "version": "3.7.6"
  }
 },
 "nbformat": 4,
 "nbformat_minor": 1
}
